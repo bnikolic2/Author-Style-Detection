{
 "cells": [
  {
   "cell_type": "code",
   "execution_count": 1,
   "metadata": {},
   "outputs": [],
   "source": [
    "import pandas as pd\n",
    "import numpy as np\n",
    "import json\n",
    "import random"
   ]
  },
  {
   "cell_type": "code",
   "execution_count": 2,
   "metadata": {},
   "outputs": [],
   "source": [
    "DIR = './dataset/train/'\n",
    "\n",
    "texts = {\n",
    "    'text-id': [],\n",
    "    'text': [],\n",
    "    'num-authors': []\n",
    "}\n",
    "\n",
    "for i in range(1,11201, 1):\n",
    "    filename = f'problem-{i}.txt'\n",
    "    with open(DIR + filename, 'r', encoding='utf-8') as file:\n",
    "        lines = file.readlines()\n",
    "        lines = \" ||| \".join(lines)\n",
    "\n",
    "    json_filename = f'truth-problem-{i}.json'\n",
    "    with open(DIR + json_filename\n",
    "              , 'r', encoding='utf-8') as json_file:\n",
    "        json_data = json.load(json_file)\n",
    "        num_authors = max(json_data['paragraph-authors'])  # Get the maximum number of authors\n",
    "\n",
    "    texts['text-id'].append(i)\n",
    "    texts['text'].append(lines)\n",
    "    texts['num-authors'].append(num_authors)\n"
   ]
  },
  {
   "cell_type": "code",
   "execution_count": 3,
   "metadata": {},
   "outputs": [
    {
     "data": {
      "text/html": [
       "<div>\n",
       "<style scoped>\n",
       "    .dataframe tbody tr th:only-of-type {\n",
       "        vertical-align: middle;\n",
       "    }\n",
       "\n",
       "    .dataframe tbody tr th {\n",
       "        vertical-align: top;\n",
       "    }\n",
       "\n",
       "    .dataframe thead th {\n",
       "        text-align: right;\n",
       "    }\n",
       "</style>\n",
       "<table border=\"1\" class=\"dataframe\">\n",
       "  <thead>\n",
       "    <tr style=\"text-align: right;\">\n",
       "      <th></th>\n",
       "      <th>text-id</th>\n",
       "      <th>text</th>\n",
       "      <th>num-authors</th>\n",
       "      <th>text-length</th>\n",
       "    </tr>\n",
       "  </thead>\n",
       "  <tbody>\n",
       "    <tr>\n",
       "      <th>0</th>\n",
       "      <td>1</td>\n",
       "      <td>As stephelton said in the comments to your que...</td>\n",
       "      <td>3</td>\n",
       "      <td>2610</td>\n",
       "    </tr>\n",
       "    <tr>\n",
       "      <th>1</th>\n",
       "      <td>2</td>\n",
       "      <td>I would suspect the OS drive first or whatever...</td>\n",
       "      <td>2</td>\n",
       "      <td>1773</td>\n",
       "    </tr>\n",
       "    <tr>\n",
       "      <th>2</th>\n",
       "      <td>3</td>\n",
       "      <td>The answer lies in SPI - Stateful Packet Inspe...</td>\n",
       "      <td>3</td>\n",
       "      <td>1471</td>\n",
       "    </tr>\n",
       "    <tr>\n",
       "      <th>3</th>\n",
       "      <td>4</td>\n",
       "      <td>Indexing is incredibly resource intensive espe...</td>\n",
       "      <td>1</td>\n",
       "      <td>2553</td>\n",
       "    </tr>\n",
       "    <tr>\n",
       "      <th>4</th>\n",
       "      <td>5</td>\n",
       "      <td>Do the split just once, what about someone sen...</td>\n",
       "      <td>2</td>\n",
       "      <td>1050</td>\n",
       "    </tr>\n",
       "  </tbody>\n",
       "</table>\n",
       "</div>"
      ],
      "text/plain": [
       "   text-id                                               text  num-authors  \\\n",
       "0        1  As stephelton said in the comments to your que...            3   \n",
       "1        2  I would suspect the OS drive first or whatever...            2   \n",
       "2        3  The answer lies in SPI - Stateful Packet Inspe...            3   \n",
       "3        4  Indexing is incredibly resource intensive espe...            1   \n",
       "4        5  Do the split just once, what about someone sen...            2   \n",
       "\n",
       "   text-length  \n",
       "0         2610  \n",
       "1         1773  \n",
       "2         1471  \n",
       "3         2553  \n",
       "4         1050  "
      ]
     },
     "execution_count": 3,
     "metadata": {},
     "output_type": "execute_result"
    }
   ],
   "source": [
    "data = pd.DataFrame(texts)\n",
    "data['text-length'] = data['text'].apply(lambda x: len(x))\n",
    "data.head()"
   ]
  },
  {
   "cell_type": "code",
   "execution_count": 4,
   "metadata": {},
   "outputs": [
    {
     "data": {
      "text/plain": [
       "count    11200.000000\n",
       "mean      1770.805179\n",
       "std        837.511632\n",
       "min       1005.000000\n",
       "25%       1221.000000\n",
       "50%       1506.000000\n",
       "75%       2029.000000\n",
       "max       9601.000000\n",
       "Name: text-length, dtype: float64"
      ]
     },
     "execution_count": 4,
     "metadata": {},
     "output_type": "execute_result"
    }
   ],
   "source": [
    "data['text-length'].describe()"
   ]
  },
  {
   "cell_type": "code",
   "execution_count": 5,
   "metadata": {},
   "outputs": [
    {
     "data": {
      "text/plain": [
       "(1688, 4)"
      ]
     },
     "execution_count": 5,
     "metadata": {},
     "output_type": "execute_result"
    }
   ],
   "source": [
    "isolated_text = data.loc[(data['text-length'] >= data['text-length'].quantile(0.25)) & (data['text-length'] <= data['text-length'].quantile(0.4))]\n",
    "isolated_text.shape"
   ]
  },
  {
   "cell_type": "code",
   "execution_count": 6,
   "metadata": {},
   "outputs": [
    {
     "data": {
      "text/plain": [
       "2591"
      ]
     },
     "execution_count": 6,
     "metadata": {},
     "output_type": "execute_result"
    }
   ],
   "source": [
    "random.seed(39)\n",
    "check_up_text = random.choice(isolated_text.loc[isolated_text['num-authors'] == 3, 'text-id'].tolist())\n",
    "check_up_text"
   ]
  },
  {
   "cell_type": "code",
   "execution_count": 7,
   "metadata": {},
   "outputs": [
    {
     "name": "stdout",
     "output_type": "stream",
     "text": [
      "Chosen text  1:   3414\n",
      "Chosen text  2:   5214\n",
      "Chosen text  3:    424\n",
      "Chosen text  4:   2605\n",
      "Chosen text  5:   2885\n",
      "Chosen text  6:   5385\n",
      "Chosen text  7:   9989\n",
      "Chosen text  8:   7757\n",
      "Chosen text  9:     77\n",
      "Chosen text  10:   8880\n",
      "Chosen text  11:  10922\n",
      "Chosen text  12:   3354\n",
      "Chosen text  13:   9315\n",
      "Chosen text  14:   4727\n",
      "Chosen text  15:   9795\n",
      "Chosen text  16:   2329\n",
      "Chosen text  17:  11100\n",
      "Chosen text  18:    432\n",
      "Chosen text  19:   3923\n",
      "Chosen text  20:   9291\n",
      "Chosen text  21:   1031\n",
      "Chosen text  22:   4856\n",
      "Chosen text  23:    163\n",
      "Chosen text  24:   1479\n",
      "Chosen text  25:   5738\n",
      "Chosen text  26:   4592\n",
      "Chosen text  27:   5724\n",
      "Chosen text  28:  10832\n",
      "Chosen text  29:  10280\n",
      "Chosen text  30:   1343\n",
      "Chosen text  31:   5347\n",
      "Chosen text  32:   7064\n"
     ]
    }
   ],
   "source": [
    "chosen_id = []\n",
    "for i in range(32):\n",
    "    texts_id = random.choice(isolated_text['text-id'].tolist())\n",
    "    chosen_id.append(texts_id)\n",
    "\n",
    "for i in range(len(chosen_id)):\n",
    "    print(\"Chosen text {: 2d}: {: 6d}\".format(i+1, chosen_id[i]))"
   ]
  },
  {
   "cell_type": "code",
   "execution_count": null,
   "metadata": {},
   "outputs": [],
   "source": []
  }
 ],
 "metadata": {
  "kernelspec": {
   "display_name": "Python 3",
   "language": "python",
   "name": "python3"
  },
  "language_info": {
   "codemirror_mode": {
    "name": "ipython",
    "version": 3
   },
   "file_extension": ".py",
   "mimetype": "text/x-python",
   "name": "python",
   "nbconvert_exporter": "python",
   "pygments_lexer": "ipython3",
   "version": "3.11.4"
  }
 },
 "nbformat": 4,
 "nbformat_minor": 2
}
