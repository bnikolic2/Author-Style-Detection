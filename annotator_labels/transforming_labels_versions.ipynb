{
 "cells": [
  {
   "cell_type": "markdown",
   "metadata": {},
   "source": [
    "Transforming ver_i.csv dataframes.\n",
    "Column annotator_label to annotator_paragraph:\n",
    "[[ann1_pair1, ann2_pair1, ann_3_pair1, ...], [ann1_pair2, ann2_pair2, ann3_pair3, ...]]"
   ]
  },
  {
   "cell_type": "code",
   "execution_count": 1,
   "metadata": {},
   "outputs": [],
   "source": [
    "import pandas as pd\n",
    "import re\n",
    "import numpy as np"
   ]
  },
  {
   "cell_type": "code",
   "execution_count": 2,
   "metadata": {},
   "outputs": [],
   "source": [
    "paragraphs_gold = pd.read_csv('./all_paragraphs.csv') "
   ]
  },
  {
   "cell_type": "code",
   "execution_count": 3,
   "metadata": {},
   "outputs": [
    {
     "data": {
      "text/html": [
       "<div>\n",
       "<style scoped>\n",
       "    .dataframe tbody tr th:only-of-type {\n",
       "        vertical-align: middle;\n",
       "    }\n",
       "\n",
       "    .dataframe tbody tr th {\n",
       "        vertical-align: top;\n",
       "    }\n",
       "\n",
       "    .dataframe thead th {\n",
       "        text-align: right;\n",
       "    }\n",
       "</style>\n",
       "<table border=\"1\" class=\"dataframe\">\n",
       "  <thead>\n",
       "    <tr style=\"text-align: right;\">\n",
       "      <th></th>\n",
       "      <th>text-id</th>\n",
       "      <th>text</th>\n",
       "      <th>label</th>\n",
       "      <th>version</th>\n",
       "    </tr>\n",
       "  </thead>\n",
       "  <tbody>\n",
       "    <tr>\n",
       "      <th>0</th>\n",
       "      <td>medium-17</td>\n",
       "      <td>Due to the overreach on the initial layoffs, c...</td>\n",
       "      <td>1</td>\n",
       "      <td>3</td>\n",
       "    </tr>\n",
       "    <tr>\n",
       "      <th>1</th>\n",
       "      <td>medium-17</td>\n",
       "      <td>I used to be in Pharmacy. Then I did a researc...</td>\n",
       "      <td>0</td>\n",
       "      <td>3</td>\n",
       "    </tr>\n",
       "    <tr>\n",
       "      <th>2</th>\n",
       "      <td>medium-17</td>\n",
       "      <td>So if a medical center has any that are partia...</td>\n",
       "      <td>1</td>\n",
       "      <td>3</td>\n",
       "    </tr>\n",
       "    <tr>\n",
       "      <th>3</th>\n",
       "      <td>medium-17</td>\n",
       "      <td>Open vials are supposed to be discarded after ...</td>\n",
       "      <td>1</td>\n",
       "      <td>3</td>\n",
       "    </tr>\n",
       "    <tr>\n",
       "      <th>4</th>\n",
       "      <td>medium-17</td>\n",
       "      <td>It costs about 15-35 cents to make a mL of ins...</td>\n",
       "      <td>1</td>\n",
       "      <td>3</td>\n",
       "    </tr>\n",
       "    <tr>\n",
       "      <th>...</th>\n",
       "      <td>...</td>\n",
       "      <td>...</td>\n",
       "      <td>...</td>\n",
       "      <td>...</td>\n",
       "    </tr>\n",
       "    <tr>\n",
       "      <th>166</th>\n",
       "      <td>hard-252</td>\n",
       "      <td>We don’t make more money today as land develop...</td>\n",
       "      <td>0</td>\n",
       "      <td>-1</td>\n",
       "    </tr>\n",
       "    <tr>\n",
       "      <th>167</th>\n",
       "      <td>hard-252</td>\n",
       "      <td>Blame red tape, environmental “protection”, an...</td>\n",
       "      <td>1</td>\n",
       "      <td>-1</td>\n",
       "    </tr>\n",
       "    <tr>\n",
       "      <th>168</th>\n",
       "      <td>hard-252</td>\n",
       "      <td>If you want the government to intervene to mak...</td>\n",
       "      <td>1</td>\n",
       "      <td>-1</td>\n",
       "    </tr>\n",
       "    <tr>\n",
       "      <th>169</th>\n",
       "      <td>hard-252</td>\n",
       "      <td>Most politicians in my province (and probably ...</td>\n",
       "      <td>0</td>\n",
       "      <td>-1</td>\n",
       "    </tr>\n",
       "    <tr>\n",
       "      <th>170</th>\n",
       "      <td>hard-252</td>\n",
       "      <td>The incentive is to court middle-class home ow...</td>\n",
       "      <td>0</td>\n",
       "      <td>-1</td>\n",
       "    </tr>\n",
       "  </tbody>\n",
       "</table>\n",
       "<p>171 rows × 4 columns</p>\n",
       "</div>"
      ],
      "text/plain": [
       "       text-id                                               text  label  \\\n",
       "0    medium-17  Due to the overreach on the initial layoffs, c...      1   \n",
       "1    medium-17  I used to be in Pharmacy. Then I did a researc...      0   \n",
       "2    medium-17  So if a medical center has any that are partia...      1   \n",
       "3    medium-17  Open vials are supposed to be discarded after ...      1   \n",
       "4    medium-17  It costs about 15-35 cents to make a mL of ins...      1   \n",
       "..         ...                                                ...    ...   \n",
       "166   hard-252  We don’t make more money today as land develop...      0   \n",
       "167   hard-252  Blame red tape, environmental “protection”, an...      1   \n",
       "168   hard-252  If you want the government to intervene to mak...      1   \n",
       "169   hard-252  Most politicians in my province (and probably ...      0   \n",
       "170   hard-252  The incentive is to court middle-class home ow...      0   \n",
       "\n",
       "     version  \n",
       "0          3  \n",
       "1          3  \n",
       "2          3  \n",
       "3          3  \n",
       "4          3  \n",
       "..       ...  \n",
       "166       -1  \n",
       "167       -1  \n",
       "168       -1  \n",
       "169       -1  \n",
       "170       -1  \n",
       "\n",
       "[171 rows x 4 columns]"
      ]
     },
     "execution_count": 3,
     "metadata": {},
     "output_type": "execute_result"
    }
   ],
   "source": [
    "paragraphs_gold"
   ]
  },
  {
   "cell_type": "code",
   "execution_count": 4,
   "metadata": {},
   "outputs": [],
   "source": [
    "dataframes = []\n",
    "for i in range(1,9):\n",
    "    dataframes.append(pd.read_csv(f'./ver_{i}.csv'))\n",
    "\n",
    "def parse_array_string(s):\n",
    "    # Use regex to find all occurrences of numbers inside array([...])\n",
    "    array_strings = re.findall(r'array\\(\\[([0-9, ]+)\\]', s)\n",
    "    # Convert found strings to numpy arrays\n",
    "    arrays = [np.fromstring(arr, sep=', ', dtype=int) for arr in array_strings]\n",
    "    return arrays\n",
    "\n",
    "for j in range(len(dataframes)):\n",
    "    df = dataframes[j]\n",
    "    for i in range(len(df)):\n",
    "        s = df['annotator_label'][i]\n",
    "        # Extract the numpy arrays from the string\n",
    "        arrays = parse_array_string(s)\n",
    "\n",
    "        # Convert to a numpy array of numpy arrays\n",
    "        result = arrays\n",
    "        df['annotator_label'][i] = result"
   ]
  },
  {
   "cell_type": "code",
   "execution_count": 5,
   "metadata": {},
   "outputs": [
    {
     "name": "stdout",
     "output_type": "stream",
     "text": [
      "      text-id                                    annotator_label\n",
      "0    hard-118  [[1, 1, 0, 0, 0], [1, 0, 0, 0, 1], [1, 0, 0, 0...\n",
      "1    hard-762  [[0, 0, 0, 0, 0], [1, 1, 0, 1, 0], [0, 0, 0, 1...\n",
      "2    hard-693  [[1, 1, 0, 0], [0, 1, 1, 0], [0, 0, 0, 1], [1,...\n",
      "3  medium-253  [[1, 1, 1, 1, 1], [1, 1, 1, 1, 0], [1, 1, 1, 1...\n"
     ]
    }
   ],
   "source": [
    "print(dataframes[7])"
   ]
  },
  {
   "cell_type": "code",
   "execution_count": 6,
   "metadata": {},
   "outputs": [
    {
     "name": "stdout",
     "output_type": "stream",
     "text": [
      "[array([1, 0, 1]), array([1, 1, 1]), array([1, 1, 1]), array([1, 0, 1]), array([1, 1, 1]), array([0, 1, 0]), array([1, 1, 1]), array([1, 1, 0]), array([0, 1, 0]), array([1, 1, 0])]\n"
     ]
    },
    {
     "data": {
      "text/plain": [
       "[[1, 1, 1, 1, 1, 0, 1, 1, 0, 1],\n",
       " [0, 1, 1, 0, 1, 1, 1, 1, 1, 1],\n",
       " [1, 1, 1, 1, 1, 0, 1, 0, 0, 0]]"
      ]
     },
     "execution_count": 6,
     "metadata": {},
     "output_type": "execute_result"
    }
   ],
   "source": [
    "# transforming labels so that its a big array of arrays of labels for each pair of paragraph for each annotator\n",
    "# [[ann1_pair1, ann2_pair1, ann_3_pair1, ...], [ann1_pair2, ann2_pair2, ann3_pair3, ...]]\n",
    "\n",
    "def parsing_dataframe(df):\n",
    "    transformed_data = []\n",
    "\n",
    "    # Iterate over each row in the DataFrame\n",
    "    for index, row in df.iterrows():\n",
    "        text_id = row['text-id']\n",
    "        labels = row['annotator_label']\n",
    "\n",
    "        # Flatten the list of lists\n",
    "        flattened_labels = [item for sublist in labels for item in sublist]\n",
    "\n",
    "        # Reshape the flattened list into separate lists for each position\n",
    "        reshaped_labels = [flattened_labels[i::len(labels[0])] for i in range(len(labels[0]))]\n",
    "\n",
    "        # Create a new dictionary with the transformed labels\n",
    "        transformed_row = {'text-id': text_id, 'annotator_paragraph': reshaped_labels}\n",
    "\n",
    "        # Append the transformed row to the list\n",
    "        transformed_data.append(transformed_row)\n",
    "\n",
    "    # Convert the list of dictionaries back into a DataFrame\n",
    "    transformed_df = pd.DataFrame(transformed_data)\n",
    "\n",
    "    return transformed_df\n",
    "\n",
    "print(dataframes[0]['annotator_label'][0])\n",
    "parsing_dataframe(dataframes[0])['annotator_paragraph'][0]"
   ]
  },
  {
   "cell_type": "code",
   "execution_count": 7,
   "metadata": {},
   "outputs": [],
   "source": [
    "for i in range(8):\n",
    "    dataframes[i] = parsing_dataframe(dataframes[i])"
   ]
  },
  {
   "cell_type": "code",
   "execution_count": 8,
   "metadata": {},
   "outputs": [],
   "source": [
    "for i in range(8):\n",
    "    dataframes[i].to_csv(f'./paragraphs_labels/ver_{i+1}.csv', index=False)"
   ]
  }
 ],
 "metadata": {
  "kernelspec": {
   "display_name": "Python 3",
   "language": "python",
   "name": "python3"
  },
  "language_info": {
   "codemirror_mode": {
    "name": "ipython",
    "version": 3
   },
   "file_extension": ".py",
   "mimetype": "text/x-python",
   "name": "python",
   "nbconvert_exporter": "python",
   "pygments_lexer": "ipython3",
   "version": "3.11.4"
  }
 },
 "nbformat": 4,
 "nbformat_minor": 2
}
