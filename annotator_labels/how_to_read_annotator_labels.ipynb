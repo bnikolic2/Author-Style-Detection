{
 "cells": [
  {
   "cell_type": "code",
   "execution_count": 1,
   "metadata": {},
   "outputs": [],
   "source": [
    "import pandas as pd\n",
    "import numpy as np\n",
    "import ast\n",
    "import re"
   ]
  },
  {
   "cell_type": "code",
   "execution_count": 2,
   "metadata": {},
   "outputs": [],
   "source": [
    "dataframes = []\n",
    "for i in range(1,9):\n",
    "    dataframes.append(pd.read_csv(f'annotator_labels/ver_{i}.csv'))"
   ]
  },
  {
   "cell_type": "code",
   "execution_count": 3,
   "metadata": {},
   "outputs": [
    {
     "data": {
      "text/html": [
       "<div>\n",
       "<style scoped>\n",
       "    .dataframe tbody tr th:only-of-type {\n",
       "        vertical-align: middle;\n",
       "    }\n",
       "\n",
       "    .dataframe tbody tr th {\n",
       "        vertical-align: top;\n",
       "    }\n",
       "\n",
       "    .dataframe thead th {\n",
       "        text-align: right;\n",
       "    }\n",
       "</style>\n",
       "<table border=\"1\" class=\"dataframe\">\n",
       "  <thead>\n",
       "    <tr style=\"text-align: right;\">\n",
       "      <th></th>\n",
       "      <th>text-id</th>\n",
       "      <th>annotator_label</th>\n",
       "    </tr>\n",
       "  </thead>\n",
       "  <tbody>\n",
       "    <tr>\n",
       "      <th>0</th>\n",
       "      <td>medium-492</td>\n",
       "      <td>[array([0, 0, 0, 0, 0, 0], dtype=int64), array...</td>\n",
       "    </tr>\n",
       "    <tr>\n",
       "      <th>1</th>\n",
       "      <td>medium-564</td>\n",
       "      <td>[array([0, 0, 0, 0, 0], dtype=int64), array([0...</td>\n",
       "    </tr>\n",
       "    <tr>\n",
       "      <th>2</th>\n",
       "      <td>hard-72</td>\n",
       "      <td>[array([0, 0, 0, 0, 0], dtype=int64), array([0...</td>\n",
       "    </tr>\n",
       "    <tr>\n",
       "      <th>3</th>\n",
       "      <td>hard-656</td>\n",
       "      <td>[array([0, 0, 0, 0], dtype=int64), array([1, 1...</td>\n",
       "    </tr>\n",
       "  </tbody>\n",
       "</table>\n",
       "</div>"
      ],
      "text/plain": [
       "      text-id                                    annotator_label\n",
       "0  medium-492  [array([0, 0, 0, 0, 0, 0], dtype=int64), array...\n",
       "1  medium-564  [array([0, 0, 0, 0, 0], dtype=int64), array([0...\n",
       "2     hard-72  [array([0, 0, 0, 0, 0], dtype=int64), array([0...\n",
       "3    hard-656  [array([0, 0, 0, 0], dtype=int64), array([1, 1..."
      ]
     },
     "execution_count": 3,
     "metadata": {},
     "output_type": "execute_result"
    }
   ],
   "source": [
    "dataframes[1]"
   ]
  },
  {
   "cell_type": "code",
   "execution_count": 4,
   "metadata": {},
   "outputs": [],
   "source": [
    "def parse_array_string(s):\n",
    "    # Use regex to find all occurrences of numbers inside array([...])\n",
    "    array_strings = re.findall(r'array\\(\\[([0-9, ]+)\\]', s)\n",
    "    # Convert found strings to numpy arrays\n",
    "    arrays = [np.fromstring(arr, sep=', ', dtype=int) for arr in array_strings]\n",
    "    return arrays\n",
    "\n",
    "for j in range(len(dataframes)):\n",
    "    df = dataframes[j]\n",
    "    for i in range(len(df)):\n",
    "        s = df['annotator_label'][i]\n",
    "        # Extract the numpy arrays from the string\n",
    "        arrays = parse_array_string(s)\n",
    "\n",
    "        # Convert to a numpy array of numpy arrays\n",
    "        result = arrays\n",
    "        df['annotator_label'][i] = result"
   ]
  },
  {
   "cell_type": "code",
   "execution_count": 5,
   "metadata": {},
   "outputs": [
    {
     "data": {
      "text/html": [
       "<div>\n",
       "<style scoped>\n",
       "    .dataframe tbody tr th:only-of-type {\n",
       "        vertical-align: middle;\n",
       "    }\n",
       "\n",
       "    .dataframe tbody tr th {\n",
       "        vertical-align: top;\n",
       "    }\n",
       "\n",
       "    .dataframe thead th {\n",
       "        text-align: right;\n",
       "    }\n",
       "</style>\n",
       "<table border=\"1\" class=\"dataframe\">\n",
       "  <thead>\n",
       "    <tr style=\"text-align: right;\">\n",
       "      <th></th>\n",
       "      <th>text-id</th>\n",
       "      <th>annotator_label</th>\n",
       "    </tr>\n",
       "  </thead>\n",
       "  <tbody>\n",
       "    <tr>\n",
       "      <th>0</th>\n",
       "      <td>medium-534</td>\n",
       "      <td>[[1, 0, 1], [1, 1, 1], [1, 1, 1], [1, 0, 1], [...</td>\n",
       "    </tr>\n",
       "    <tr>\n",
       "      <th>1</th>\n",
       "      <td>medium-677</td>\n",
       "      <td>[[0, 1, 1, 1, 0], [1, 1, 1, 0, 0], [0, 1, 1, 0...</td>\n",
       "    </tr>\n",
       "    <tr>\n",
       "      <th>2</th>\n",
       "      <td>hard-51</td>\n",
       "      <td>[[0, 0, 1], [0, 1, 1], [1, 0, 1], [0, 0, 0], [...</td>\n",
       "    </tr>\n",
       "    <tr>\n",
       "      <th>3</th>\n",
       "      <td>medium-84</td>\n",
       "      <td>[[0, 0, 0, 0, 0, 0], [1, 0, 0, 1, 1, 1], [1, 0...</td>\n",
       "    </tr>\n",
       "  </tbody>\n",
       "</table>\n",
       "</div>"
      ],
      "text/plain": [
       "      text-id                                    annotator_label\n",
       "0  medium-534  [[1, 0, 1], [1, 1, 1], [1, 1, 1], [1, 0, 1], [...\n",
       "1  medium-677  [[0, 1, 1, 1, 0], [1, 1, 1, 0, 0], [0, 1, 1, 0...\n",
       "2     hard-51  [[0, 0, 1], [0, 1, 1], [1, 0, 1], [0, 0, 0], [...\n",
       "3   medium-84  [[0, 0, 0, 0, 0, 0], [1, 0, 0, 1, 1, 1], [1, 0..."
      ]
     },
     "execution_count": 5,
     "metadata": {},
     "output_type": "execute_result"
    }
   ],
   "source": [
    "dataframes[0]"
   ]
  }
 ],
 "metadata": {
  "kernelspec": {
   "display_name": "Python 3",
   "language": "python",
   "name": "python3"
  },
  "language_info": {
   "codemirror_mode": {
    "name": "ipython",
    "version": 3
   },
   "file_extension": ".py",
   "mimetype": "text/x-python",
   "name": "python",
   "nbconvert_exporter": "python",
   "pygments_lexer": "ipython3",
   "version": "3.11.4"
  }
 },
 "nbformat": 4,
 "nbformat_minor": 2
}
