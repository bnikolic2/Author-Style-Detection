{
 "cells": [
  {
   "cell_type": "code",
   "execution_count": 43,
   "metadata": {},
   "outputs": [],
   "source": [
    "import pandas as pd\n",
    "from ast import literal_eval"
   ]
  },
  {
   "cell_type": "code",
   "execution_count": 22,
   "metadata": {},
   "outputs": [],
   "source": [
    "annotators_df = pd.read_csv('..\\\\annotator_labels\\paragraph_gold_annotator.csv', index_col=False)\n",
    "llama_df = pd.read_csv('..\\ollama\\llama3-instruct-8b-q4\\llama3_prediction.csv', index_col=False)"
   ]
  },
  {
   "cell_type": "code",
   "execution_count": 26,
   "metadata": {},
   "outputs": [
    {
     "data": {
      "text/html": [
       "<div>\n",
       "<style scoped>\n",
       "    .dataframe tbody tr th:only-of-type {\n",
       "        vertical-align: middle;\n",
       "    }\n",
       "\n",
       "    .dataframe tbody tr th {\n",
       "        vertical-align: top;\n",
       "    }\n",
       "\n",
       "    .dataframe thead th {\n",
       "        text-align: right;\n",
       "    }\n",
       "</style>\n",
       "<table border=\"1\" class=\"dataframe\">\n",
       "  <thead>\n",
       "    <tr style=\"text-align: right;\">\n",
       "      <th></th>\n",
       "      <th>text-id</th>\n",
       "      <th>text</th>\n",
       "      <th>label</th>\n",
       "      <th>version</th>\n",
       "      <th>annotator_paragraph</th>\n",
       "    </tr>\n",
       "  </thead>\n",
       "  <tbody>\n",
       "    <tr>\n",
       "      <th>0</th>\n",
       "      <td>medium-17</td>\n",
       "      <td>Due to the overreach on the initial layoffs, c...</td>\n",
       "      <td>1</td>\n",
       "      <td>3</td>\n",
       "      <td>[1 1 1 1 1 1 1 0 1]</td>\n",
       "    </tr>\n",
       "    <tr>\n",
       "      <th>1</th>\n",
       "      <td>medium-17</td>\n",
       "      <td>I used to be in Pharmacy. Then I did a researc...</td>\n",
       "      <td>0</td>\n",
       "      <td>3</td>\n",
       "      <td>[1 0 0 0 1 1 0 0 0]</td>\n",
       "    </tr>\n",
       "    <tr>\n",
       "      <th>2</th>\n",
       "      <td>medium-17</td>\n",
       "      <td>So if a medical center has any that are partia...</td>\n",
       "      <td>1</td>\n",
       "      <td>3</td>\n",
       "      <td>[0 0 0 0 0 0 1 0 0]</td>\n",
       "    </tr>\n",
       "    <tr>\n",
       "      <th>3</th>\n",
       "      <td>medium-17</td>\n",
       "      <td>Open vials are supposed to be discarded after ...</td>\n",
       "      <td>1</td>\n",
       "      <td>3</td>\n",
       "      <td>[1 0 0 1 1 0 1 0 0]</td>\n",
       "    </tr>\n",
       "    <tr>\n",
       "      <th>4</th>\n",
       "      <td>medium-17</td>\n",
       "      <td>It costs about 15-35 cents to make a mL of ins...</td>\n",
       "      <td>1</td>\n",
       "      <td>3</td>\n",
       "      <td>[1 0 0 0 0 1 0 1 1]</td>\n",
       "    </tr>\n",
       "  </tbody>\n",
       "</table>\n",
       "</div>"
      ],
      "text/plain": [
       "     text-id                                               text  label  \\\n",
       "0  medium-17  Due to the overreach on the initial layoffs, c...      1   \n",
       "1  medium-17  I used to be in Pharmacy. Then I did a researc...      0   \n",
       "2  medium-17  So if a medical center has any that are partia...      1   \n",
       "3  medium-17  Open vials are supposed to be discarded after ...      1   \n",
       "4  medium-17  It costs about 15-35 cents to make a mL of ins...      1   \n",
       "\n",
       "   version  annotator_paragraph  \n",
       "0        3  [1 1 1 1 1 1 1 0 1]  \n",
       "1        3  [1 0 0 0 1 1 0 0 0]  \n",
       "2        3  [0 0 0 0 0 0 1 0 0]  \n",
       "3        3  [1 0 0 1 1 0 1 0 0]  \n",
       "4        3  [1 0 0 0 0 1 0 1 1]  "
      ]
     },
     "execution_count": 26,
     "metadata": {},
     "output_type": "execute_result"
    }
   ],
   "source": [
    "annotators_df.head()"
   ]
  },
  {
   "cell_type": "code",
   "execution_count": 10,
   "metadata": {},
   "outputs": [
    {
     "data": {
      "text/html": [
       "<div>\n",
       "<style scoped>\n",
       "    .dataframe tbody tr th:only-of-type {\n",
       "        vertical-align: middle;\n",
       "    }\n",
       "\n",
       "    .dataframe tbody tr th {\n",
       "        vertical-align: top;\n",
       "    }\n",
       "\n",
       "    .dataframe thead th {\n",
       "        text-align: right;\n",
       "    }\n",
       "</style>\n",
       "<table border=\"1\" class=\"dataframe\">\n",
       "  <thead>\n",
       "    <tr style=\"text-align: right;\">\n",
       "      <th></th>\n",
       "      <th>text-id</th>\n",
       "      <th>text</th>\n",
       "      <th>label</th>\n",
       "      <th>version</th>\n",
       "      <th>llama3_labels</th>\n",
       "      <th>not_generated_properly</th>\n",
       "    </tr>\n",
       "  </thead>\n",
       "  <tbody>\n",
       "    <tr>\n",
       "      <th>0</th>\n",
       "      <td>medium-17</td>\n",
       "      <td>Due to the overreach on the initial layoffs, c...</td>\n",
       "      <td>1</td>\n",
       "      <td>3</td>\n",
       "      <td>[0, 0, 0, 1, 0, 1, 0, 0, 1, 0, 1, 1, 1, 1]</td>\n",
       "      <td>False</td>\n",
       "    </tr>\n",
       "    <tr>\n",
       "      <th>1</th>\n",
       "      <td>medium-17</td>\n",
       "      <td>I used to be in Pharmacy. Then I did a researc...</td>\n",
       "      <td>0</td>\n",
       "      <td>3</td>\n",
       "      <td>[1, 1, 1, 1, 1, 1, 1, 1, 1, 1, 1, 1, 1, 1]</td>\n",
       "      <td>False</td>\n",
       "    </tr>\n",
       "    <tr>\n",
       "      <th>2</th>\n",
       "      <td>medium-17</td>\n",
       "      <td>So if a medical center has any that are partia...</td>\n",
       "      <td>1</td>\n",
       "      <td>3</td>\n",
       "      <td>[1, 1, 1, 1, 1, 1, 1, 1, 1, 1, 1, 1, 1, 1]</td>\n",
       "      <td>False</td>\n",
       "    </tr>\n",
       "    <tr>\n",
       "      <th>3</th>\n",
       "      <td>medium-17</td>\n",
       "      <td>Open vials are supposed to be discarded after ...</td>\n",
       "      <td>1</td>\n",
       "      <td>3</td>\n",
       "      <td>[1, 1, 1, 1, 0, 1, 1, 1, 1, 1, 1, 1, 0, 0]</td>\n",
       "      <td>False</td>\n",
       "    </tr>\n",
       "    <tr>\n",
       "      <th>4</th>\n",
       "      <td>medium-17</td>\n",
       "      <td>It costs about 15-35 cents to make a mL of ins...</td>\n",
       "      <td>1</td>\n",
       "      <td>3</td>\n",
       "      <td>[0, 0, 0, 0, 0, 0, 0, 0, 0, 0, 0, 0, 0, 0]</td>\n",
       "      <td>False</td>\n",
       "    </tr>\n",
       "  </tbody>\n",
       "</table>\n",
       "</div>"
      ],
      "text/plain": [
       "     text-id                                               text  label  \\\n",
       "0  medium-17  Due to the overreach on the initial layoffs, c...      1   \n",
       "1  medium-17  I used to be in Pharmacy. Then I did a researc...      0   \n",
       "2  medium-17  So if a medical center has any that are partia...      1   \n",
       "3  medium-17  Open vials are supposed to be discarded after ...      1   \n",
       "4  medium-17  It costs about 15-35 cents to make a mL of ins...      1   \n",
       "\n",
       "   version                               llama3_labels  not_generated_properly  \n",
       "0        3  [0, 0, 0, 1, 0, 1, 0, 0, 1, 0, 1, 1, 1, 1]                   False  \n",
       "1        3  [1, 1, 1, 1, 1, 1, 1, 1, 1, 1, 1, 1, 1, 1]                   False  \n",
       "2        3  [1, 1, 1, 1, 1, 1, 1, 1, 1, 1, 1, 1, 1, 1]                   False  \n",
       "3        3  [1, 1, 1, 1, 0, 1, 1, 1, 1, 1, 1, 1, 0, 0]                   False  \n",
       "4        3  [0, 0, 0, 0, 0, 0, 0, 0, 0, 0, 0, 0, 0, 0]                   False  "
      ]
     },
     "execution_count": 10,
     "metadata": {},
     "output_type": "execute_result"
    }
   ],
   "source": [
    "llama_df.head()"
   ]
  },
  {
   "cell_type": "code",
   "execution_count": 50,
   "metadata": {},
   "outputs": [],
   "source": [
    "labels = annotators_df['label']\n",
    "annotators = annotators_df['annotator_paragraph']\n",
    "llama = llama_df['llama3_labels'].apply(literal_eval)"
   ]
  },
  {
   "cell_type": "code",
   "execution_count": 51,
   "metadata": {},
   "outputs": [],
   "source": [
    "# remove the last text\n",
    "annotators = annotators[:164]\n",
    "llama = llama[:164]\n",
    "labels = labels[:164]"
   ]
  },
  {
   "cell_type": "code",
   "execution_count": 52,
   "metadata": {},
   "outputs": [
    {
     "data": {
      "text/plain": [
       "[0, 0, 0, 1, 0, 1, 0, 0, 1, 0, 1, 1, 1, 1]"
      ]
     },
     "execution_count": 52,
     "metadata": {},
     "output_type": "execute_result"
    }
   ],
   "source": [
    "llama[0]"
   ]
  },
  {
   "cell_type": "code",
   "execution_count": 36,
   "metadata": {},
   "outputs": [
    {
     "data": {
      "text/plain": [
       "0      1\n",
       "1      0\n",
       "2      1\n",
       "3      1\n",
       "4      1\n",
       "      ..\n",
       "164    0\n",
       "165    1\n",
       "166    1\n",
       "167    0\n",
       "168    0\n",
       "Name: label, Length: 169, dtype: int64"
      ]
     },
     "execution_count": 36,
     "metadata": {},
     "output_type": "execute_result"
    }
   ],
   "source": [
    "for i in range(len(labels)):\n",
    "    "
   ]
  }
 ],
 "metadata": {
  "kernelspec": {
   "display_name": "Python 3",
   "language": "python",
   "name": "python3"
  },
  "language_info": {
   "codemirror_mode": {
    "name": "ipython",
    "version": 3
   },
   "file_extension": ".py",
   "mimetype": "text/x-python",
   "name": "python",
   "nbconvert_exporter": "python",
   "pygments_lexer": "ipython3",
   "version": "3.11.3"
  }
 },
 "nbformat": 4,
 "nbformat_minor": 2
}
