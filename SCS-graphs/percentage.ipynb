{
 "cells": [
  {
   "cell_type": "code",
   "execution_count": 45,
   "metadata": {},
   "outputs": [],
   "source": [
    "import pandas as pd\n",
    "from ast import literal_eval\n",
    "import numpy as np"
   ]
  },
  {
   "cell_type": "code",
   "execution_count": 46,
   "metadata": {},
   "outputs": [],
   "source": [
    "ANNOTATORS_PATH = '..\\\\annotator_labels\\paragraph_gold_annotator.csv'\n",
    "LLAMA_PATH = '..\\ollama\\llama3-instruct-8b-q4\\llama3_prediction.csv'\n",
    "MISTRAL_PATH = '..\\ollama\\mistral_7b-instruct-q4_K_M\\mistral_prediction.csv'"
   ]
  },
  {
   "cell_type": "code",
   "execution_count": 47,
   "metadata": {},
   "outputs": [],
   "source": [
    "annotators_df = pd.read_csv(ANNOTATORS_PATH, index_col=False)\n",
    "annotators_df['annotator_paragraph'] = annotators_df['annotator_paragraph'].apply(lambda x: [int(i) for i in str(x).strip('[]').split() if i != 'nan'])\n",
    "\n",
    "llama_df = pd.read_csv(LLAMA_PATH, index_col=False)\n",
    "mistral_df = pd.read_csv(MISTRAL_PATH, index_col=False)"
   ]
  },
  {
   "cell_type": "code",
   "execution_count": 48,
   "metadata": {},
   "outputs": [],
   "source": [
    "labels = annotators_df['label']\n",
    "annotators = annotators_df['annotator_paragraph']\n",
    "llama = llama_df['llama3_labels'].apply(literal_eval)\n",
    "mistral = mistral_df['mistral_labels'].apply(literal_eval)"
   ]
  },
  {
   "cell_type": "code",
   "execution_count": 49,
   "metadata": {},
   "outputs": [],
   "source": [
    "# remove the last text\n",
    "annotators = annotators[:157]\n",
    "labels = labels[:157]\n",
    "llama = llama[:157]\n",
    "mistral = mistral[:157]"
   ]
  },
  {
   "cell_type": "code",
   "execution_count": 50,
   "metadata": {},
   "outputs": [],
   "source": [
    "def calculate_percentages(labels, annotators, llm):\n",
    "    ann_percentage = []\n",
    "    llm_percentage = []\n",
    "    for i in range(len(labels)):\n",
    "        l = len(annotators[i])\n",
    "        llm[i] = llm[i][:l]\n",
    "        \n",
    "        if labels[i] == 0:\n",
    "            ann_percentage.append(1-np.mean(annotators[i]))\n",
    "            llm_percentage.append(llm[i].count(0)/l)\n",
    "        else:\n",
    "            ann_percentage.append(np.mean(annotators[i]))\n",
    "            llm_percentage.append(llm[i].count(1)/l)\n",
    "    return ann_percentage, llm_percentage"
   ]
  },
  {
   "cell_type": "code",
   "execution_count": 51,
   "metadata": {},
   "outputs": [],
   "source": [
    "ann_percentage, llama_percentage = calculate_percentages(labels, annotators, llama)"
   ]
  },
  {
   "cell_type": "code",
   "execution_count": 52,
   "metadata": {},
   "outputs": [],
   "source": [
    "ann_percentage1, mistral_percentage = calculate_percentages(labels, annotators, mistral)"
   ]
  },
  {
   "cell_type": "code",
   "execution_count": 53,
   "metadata": {},
   "outputs": [],
   "source": [
    "assert ann_percentage == ann_percentage1"
   ]
  },
  {
   "cell_type": "code",
   "execution_count": 54,
   "metadata": {},
   "outputs": [],
   "source": [
    "text_ids = annotators_df['text-id']\n",
    "text_ids = text_ids[:157]"
   ]
  },
  {
   "cell_type": "code",
   "execution_count": 55,
   "metadata": {},
   "outputs": [],
   "source": [
    "df = pd.DataFrame({\n",
    "    'text_ids': text_ids,\n",
    "    'labels': labels,\n",
    "    'annotators_percentage': ann_percentage,\n",
    "    'llama_percentage': llama_percentage,\n",
    "    'mistral_percentage': mistral_percentage\n",
    "})\n",
    "\n",
    "df.to_csv('percentages.csv', index=False)"
   ]
  }
 ],
 "metadata": {
  "kernelspec": {
   "display_name": "Python 3",
   "language": "python",
   "name": "python3"
  },
  "language_info": {
   "codemirror_mode": {
    "name": "ipython",
    "version": 3
   },
   "file_extension": ".py",
   "mimetype": "text/x-python",
   "name": "python",
   "nbconvert_exporter": "python",
   "pygments_lexer": "ipython3",
   "version": "3.11.3"
  }
 },
 "nbformat": 4,
 "nbformat_minor": 2
}
