{
 "cells": [
  {
   "cell_type": "code",
   "execution_count": 2,
   "metadata": {},
   "outputs": [],
   "source": [
    "import ollama"
   ]
  },
  {
   "cell_type": "code",
   "execution_count": 5,
   "metadata": {},
   "outputs": [],
   "source": [
    "modelfile = '''\n",
    "FROM llama3:8b-instruct-q4_0\n",
    "\n",
    "PARAMETER temperature 0.5\n",
    "\n",
    "# set the system message\n",
    "SYSTEM \"\"\"\n",
    "You are simulating work of a function. You can only response by generating one 0 or one 1. You will be prompted with two paragraphs that are divide by new line symbol. If the paragraphs are written by the same author you generate 0 and if the paragraphs are written by different authors you return 1. \n",
    "\"\"\"\n",
    "'''"
   ]
  },
  {
   "cell_type": "code",
   "execution_count": 6,
   "metadata": {},
   "outputs": [
    {
     "data": {
      "text/plain": [
       "'\\nFROM llama3:8b-instruct-q4_0\\n\\nPARAMETER temperature {temparature}\\n\\n# set the system message\\nSYSTEM \"\"\"\\nYou are simulating work of a function. You can only response by generating one 0 or one 1. You will be prompted with two paragraphs that are divide by new line symbol. If the paragraphs are written by the same author you generate 0 and if the paragraphs are written by different authors you return 1. \\n\"\"\"\\n'"
      ]
     },
     "execution_count": 6,
     "metadata": {},
     "output_type": "execute_result"
    }
   ],
   "source": [
    "modelfile"
   ]
  },
  {
   "cell_type": "code",
   "execution_count": 4,
   "metadata": {},
   "outputs": [
    {
     "data": {
      "text/plain": [
       "[{'name': 'llama3:8b-instruct-q4_0',\n",
       "  'model': 'llama3:8b-instruct-q4_0',\n",
       "  'modified_at': '2024-06-04T10:39:42.994596+02:00',\n",
       "  'size': 4661224676,\n",
       "  'digest': '365c0bd3c000a25d28ddbf732fe1c6add414de7275464c4e4d1c3b5fcb5d8ad1',\n",
       "  'details': {'parent_model': '',\n",
       "   'format': 'gguf',\n",
       "   'family': 'llama',\n",
       "   'families': ['llama'],\n",
       "   'parameter_size': '8.0B',\n",
       "   'quantization_level': 'Q4_0'},\n",
       "  'expires_at': '0001-01-01T00:00:00Z'}]"
      ]
     },
     "execution_count": 4,
     "metadata": {},
     "output_type": "execute_result"
    }
   ],
   "source": [
    "ollama.list()['models']"
   ]
  },
  {
   "cell_type": "code",
   "execution_count": null,
   "metadata": {},
   "outputs": [],
   "source": [
    "ollama.crea"
   ]
  }
 ],
 "metadata": {
  "kernelspec": {
   "display_name": "Python 3",
   "language": "python",
   "name": "python3"
  },
  "language_info": {
   "codemirror_mode": {
    "name": "ipython",
    "version": 3
   },
   "file_extension": ".py",
   "mimetype": "text/x-python",
   "name": "python",
   "nbconvert_exporter": "python",
   "pygments_lexer": "ipython3",
   "version": "3.11.4"
  }
 },
 "nbformat": 4,
 "nbformat_minor": 2
}
