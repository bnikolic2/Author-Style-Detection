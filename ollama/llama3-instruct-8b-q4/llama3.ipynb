{
 "cells": [
  {
   "cell_type": "code",
   "execution_count": 10,
   "metadata": {},
   "outputs": [],
   "source": [
    "import ollama\n",
    "import pandas as pd"
   ]
  },
  {
   "cell_type": "code",
   "execution_count": 11,
   "metadata": {},
   "outputs": [],
   "source": [
    "paragraphs_df = pd.read_csv('../../csvs/labels_per_paragraph.csv')"
   ]
  },
  {
   "cell_type": "code",
   "execution_count": 13,
   "metadata": {},
   "outputs": [
    {
     "data": {
      "text/plain": [
       "'Due to the overreach on the initial layoffs, current Twitter employees are in a pretty empowered position right now. Twitter is sinking and Elon removed the majority of the bilge pumps along with most people who know how to run the boat. He needs every hand on deck and can’t afford to fire people giving 80% and telling him to fuck off from his return to the office edict. Curious to see how many return.\\nI used to be in Pharmacy. Then I did a research project about their markups, especially in the US I was appalled.'"
      ]
     },
     "execution_count": 13,
     "metadata": {},
     "output_type": "execute_result"
    }
   ],
   "source": [
    "paragraphs_df['text'][0]"
   ]
  },
  {
   "cell_type": "code",
   "execution_count": 7,
   "metadata": {},
   "outputs": [],
   "source": [
    "modelfile = '''\n",
    "FROM llama3:8b-instruct-q4_0\n",
    "\n",
    "PARAMETER temperature 0.5\n",
    "\n",
    "# set the system message\n",
    "SYSTEM \"\"\"\n",
    "You are simulating work of a function. You can only response by generating one 0 or one 1. You will be prompted with two paragraphs that are divide by new line symbol. If the paragraphs are written by the same author you generate 0 and if the paragraphs are written by different authors you return 1. \n",
    "\"\"\"\n",
    "'''"
   ]
  },
  {
   "cell_type": "code",
   "execution_count": 9,
   "metadata": {},
   "outputs": [
    {
     "data": {
      "text/plain": [
       "{'status': 'success'}"
      ]
     },
     "execution_count": 9,
     "metadata": {},
     "output_type": "execute_result"
    }
   ],
   "source": [
    "ollama.create(model='llama3-SCS', modelfile=modelfile)"
   ]
  },
  {
   "cell_type": "code",
   "execution_count": 18,
   "metadata": {},
   "outputs": [
    {
     "data": {
      "text/plain": [
       "'1'"
      ]
     },
     "execution_count": 18,
     "metadata": {},
     "output_type": "execute_result"
    }
   ],
   "source": [
    "ollama.generate(model='llama3-SCS', prompt='Due to the overreach on the initial layoffs, current Twitter employees are in a pretty empowered position right now. Twitter is sinking and Elon removed the majority of the bilge pumps along with most people who know how to run the boat. He needs every hand on deck and can’t afford to fire people giving 80% and telling him to fuck off from his return to the office edict. Curious to see how many return.\\nI used to be in Pharmacy. Then I did a research project about their markups, especially in the US I was appalled.')['response']"
   ]
  },
  {
   "cell_type": "code",
   "execution_count": null,
   "metadata": {},
   "outputs": [],
   "source": []
  }
 ],
 "metadata": {
  "kernelspec": {
   "display_name": "Python 3",
   "language": "python",
   "name": "python3"
  },
  "language_info": {
   "codemirror_mode": {
    "name": "ipython",
    "version": 3
   },
   "file_extension": ".py",
   "mimetype": "text/x-python",
   "name": "python",
   "nbconvert_exporter": "python",
   "pygments_lexer": "ipython3",
   "version": "3.11.4"
  }
 },
 "nbformat": 4,
 "nbformat_minor": 2
}
