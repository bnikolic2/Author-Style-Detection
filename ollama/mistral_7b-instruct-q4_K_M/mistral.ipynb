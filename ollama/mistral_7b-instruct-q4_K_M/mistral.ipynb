{
 "cells": [
  {
   "cell_type": "code",
   "execution_count": 1,
   "metadata": {},
   "outputs": [],
   "source": [
    "import ollama\n",
    "import pandas as pd\n",
    "import numpy as np\n",
    "from tqdm import tqdm"
   ]
  },
  {
   "cell_type": "code",
   "execution_count": 2,
   "metadata": {},
   "outputs": [
    {
     "data": {
      "text/plain": [
       "{'status': 'success'}"
      ]
     },
     "execution_count": 2,
     "metadata": {},
     "output_type": "execute_result"
    }
   ],
   "source": [
    "modelfile = '''\n",
    "FROM mistral:7b-instruct-q4_K_M\n",
    "\n",
    "PARAMETER temperature 0.5\n",
    "\n",
    "# set the system message\n",
    "SYSTEM \"\"\"\n",
    "You are simulating work of a function. You can only response by generating one 0 or one 1. You will be prompted with two paragraphs that are divide by new line symbol. If the paragraphs are written by the same author you generate 0 and if the paragraphs are written by different authors you return 1. \n",
    "\"\"\"\n",
    "'''\n",
    "\n",
    "ollama.create(model='mistral-SCS', modelfile=modelfile)"
   ]
  },
  {
   "cell_type": "code",
   "execution_count": 3,
   "metadata": {},
   "outputs": [],
   "source": [
    "paragraphs_df = pd.read_csv('../all_paragraphs.csv')"
   ]
  },
  {
   "cell_type": "code",
   "execution_count": 4,
   "metadata": {},
   "outputs": [
    {
     "data": {
      "text/html": [
       "<div>\n",
       "<style scoped>\n",
       "    .dataframe tbody tr th:only-of-type {\n",
       "        vertical-align: middle;\n",
       "    }\n",
       "\n",
       "    .dataframe tbody tr th {\n",
       "        vertical-align: top;\n",
       "    }\n",
       "\n",
       "    .dataframe thead th {\n",
       "        text-align: right;\n",
       "    }\n",
       "</style>\n",
       "<table border=\"1\" class=\"dataframe\">\n",
       "  <thead>\n",
       "    <tr style=\"text-align: right;\">\n",
       "      <th></th>\n",
       "      <th>text-id</th>\n",
       "      <th>text</th>\n",
       "      <th>label</th>\n",
       "      <th>version</th>\n",
       "    </tr>\n",
       "  </thead>\n",
       "  <tbody>\n",
       "    <tr>\n",
       "      <th>0</th>\n",
       "      <td>medium-17</td>\n",
       "      <td>Due to the overreach on the initial layoffs, c...</td>\n",
       "      <td>1</td>\n",
       "      <td>3</td>\n",
       "    </tr>\n",
       "    <tr>\n",
       "      <th>1</th>\n",
       "      <td>medium-17</td>\n",
       "      <td>I used to be in Pharmacy. Then I did a researc...</td>\n",
       "      <td>0</td>\n",
       "      <td>3</td>\n",
       "    </tr>\n",
       "    <tr>\n",
       "      <th>2</th>\n",
       "      <td>medium-17</td>\n",
       "      <td>So if a medical center has any that are partia...</td>\n",
       "      <td>1</td>\n",
       "      <td>3</td>\n",
       "    </tr>\n",
       "    <tr>\n",
       "      <th>3</th>\n",
       "      <td>medium-17</td>\n",
       "      <td>Open vials are supposed to be discarded after ...</td>\n",
       "      <td>1</td>\n",
       "      <td>3</td>\n",
       "    </tr>\n",
       "    <tr>\n",
       "      <th>4</th>\n",
       "      <td>medium-17</td>\n",
       "      <td>It costs about 15-35 cents to make a mL of ins...</td>\n",
       "      <td>1</td>\n",
       "      <td>3</td>\n",
       "    </tr>\n",
       "  </tbody>\n",
       "</table>\n",
       "</div>"
      ],
      "text/plain": [
       "     text-id                                               text  label  \\\n",
       "0  medium-17  Due to the overreach on the initial layoffs, c...      1   \n",
       "1  medium-17  I used to be in Pharmacy. Then I did a researc...      0   \n",
       "2  medium-17  So if a medical center has any that are partia...      1   \n",
       "3  medium-17  Open vials are supposed to be discarded after ...      1   \n",
       "4  medium-17  It costs about 15-35 cents to make a mL of ins...      1   \n",
       "\n",
       "   version  \n",
       "0        3  \n",
       "1        3  \n",
       "2        3  \n",
       "3        3  \n",
       "4        3  "
      ]
     },
     "execution_count": 4,
     "metadata": {},
     "output_type": "execute_result"
    }
   ],
   "source": [
    "paragraphs_df.head()"
   ]
  },
  {
   "cell_type": "code",
   "execution_count": 5,
   "metadata": {},
   "outputs": [
    {
     "data": {
      "text/plain": [
       "'Due to the overreach on the initial layoffs, current Twitter employees are in a pretty empowered position right now. Twitter is sinking and Elon removed the majority of the bilge pumps along with most people who know how to run the boat. He needs every hand on deck and can’t afford to fire people giving 80% and telling him to fuck off from his return to the office edict. Curious to see how many return.\\r\\nI used to be in Pharmacy. Then I did a research project about their markups, especially in the US I was appalled.'"
      ]
     },
     "execution_count": 5,
     "metadata": {},
     "output_type": "execute_result"
    }
   ],
   "source": [
    "paragraphs_df['text'][0]"
   ]
  },
  {
   "cell_type": "code",
   "execution_count": 6,
   "metadata": {},
   "outputs": [
    {
     "data": {
      "text/plain": [
       "'1'"
      ]
     },
     "execution_count": 6,
     "metadata": {},
     "output_type": "execute_result"
    }
   ],
   "source": [
    "ollama.generate(model='mistral-SCS', prompt=paragraphs_df['text'][0], options={'num_predict':1})['response']"
   ]
  },
  {
   "cell_type": "code",
   "execution_count": 7,
   "metadata": {},
   "outputs": [
    {
     "name": "stderr",
     "output_type": "stream",
     "text": [
      "  0%|          | 0/169 [00:00<?, ?it/s]"
     ]
    },
    {
     "name": "stderr",
     "output_type": "stream",
     "text": [
      "  1%|          | 1/169 [00:02<05:43,  2.05s/it]"
     ]
    },
    {
     "name": "stdout",
     "output_type": "stream",
     "text": [
      "['1', '1', '1', '1', '1', '1', '1', '1', '1', '1', '1', '1', '1', '1']\n"
     ]
    },
    {
     "name": "stderr",
     "output_type": "stream",
     "text": [
      "  1%|          | 2/169 [00:08<12:47,  4.60s/it]"
     ]
    },
    {
     "name": "stdout",
     "output_type": "stream",
     "text": [
      "['1', '0', '1', '1', '1', '0', '1', '1', '1', '1', '0', '0', '1', '1']\n"
     ]
    },
    {
     "name": "stderr",
     "output_type": "stream",
     "text": [
      "  2%|▏         | 3/169 [00:16<17:41,  6.39s/it]"
     ]
    },
    {
     "name": "stdout",
     "output_type": "stream",
     "text": [
      "['1', '1', '1', '1', '1', '0', '1', '1', '1', '1', '1', '1', '1', '1']\n"
     ]
    },
    {
     "name": "stderr",
     "output_type": "stream",
     "text": [
      "  2%|▏         | 4/169 [00:26<21:09,  7.69s/it]"
     ]
    },
    {
     "name": "stdout",
     "output_type": "stream",
     "text": [
      "['0', '1', '0', '0', '0', '0', '0', '1', '1', '1', '0', '1', '1', '1']\n"
     ]
    },
    {
     "name": "stderr",
     "output_type": "stream",
     "text": [
      "  3%|▎         | 5/169 [00:34<20:57,  7.67s/it]"
     ]
    },
    {
     "name": "stdout",
     "output_type": "stream",
     "text": [
      "['You', '1', '0', '1', '0', '0', '1', '1', 'It', '1', '0', '1', '1', '0']\n"
     ]
    },
    {
     "name": "stderr",
     "output_type": "stream",
     "text": [
      "  4%|▎         | 6/169 [00:40<19:37,  7.22s/it]"
     ]
    },
    {
     "name": "stdout",
     "output_type": "stream",
     "text": [
      "['1', '0', '0', '0', '0', '0', '1', '0', '0', '0', '0', '0', '0', '0']\n"
     ]
    },
    {
     "name": "stderr",
     "output_type": "stream",
     "text": [
      "  4%|▍         | 7/169 [00:48<19:52,  7.36s/it]"
     ]
    },
    {
     "name": "stdout",
     "output_type": "stream",
     "text": [
      "['0', '1', '0', '1', '0', '0', '1', '0', '0', '0', '1', '0', '1', '1']\n"
     ]
    },
    {
     "name": "stderr",
     "output_type": "stream",
     "text": [
      "  5%|▍         | 8/169 [00:54<19:01,  7.09s/it]"
     ]
    },
    {
     "name": "stdout",
     "output_type": "stream",
     "text": [
      "['1', '1', '1', '1', '1', '1', '1', '0', '1', '1', '1', '0', '0', '1']\n"
     ]
    },
    {
     "name": "stderr",
     "output_type": "stream",
     "text": [
      "  5%|▌         | 9/169 [01:01<18:19,  6.87s/it]"
     ]
    },
    {
     "name": "stdout",
     "output_type": "stream",
     "text": [
      "['0', '0', '0', '0', '1', '1', '1', '0', '0', '0', '0', '1', '0', '0']\n"
     ]
    },
    {
     "name": "stderr",
     "output_type": "stream",
     "text": [
      "  6%|▌         | 10/169 [01:06<17:13,  6.50s/it]"
     ]
    },
    {
     "name": "stdout",
     "output_type": "stream",
     "text": [
      "['1', '1', '0', '0', '0', '0', '0', '0', '0', '0', '0', '0', '0', '0']\n"
     ]
    },
    {
     "name": "stderr",
     "output_type": "stream",
     "text": [
      "  7%|▋         | 11/169 [01:12<16:49,  6.39s/it]"
     ]
    },
    {
     "name": "stdout",
     "output_type": "stream",
     "text": [
      "['0', '1', '0', '1', '0', '0', '0', '0', '0', '1', '1', '1', '0', 'You']\n"
     ]
    },
    {
     "name": "stderr",
     "output_type": "stream",
     "text": [
      "  7%|▋         | 12/169 [01:21<18:18,  7.00s/it]"
     ]
    },
    {
     "name": "stdout",
     "output_type": "stream",
     "text": [
      "['1', '1', '0', '0', '0', '1', '0', '0', '0', '0', '0', '0', '0', '0']\n"
     ]
    },
    {
     "name": "stderr",
     "output_type": "stream",
     "text": [
      "  8%|▊         | 13/169 [01:31<20:50,  8.02s/it]"
     ]
    },
    {
     "name": "stdout",
     "output_type": "stream",
     "text": [
      "['0', '0', '0', '0', '0', '0', '0', '0', '0', '0', '0', '0', '1', '0']\n"
     ]
    },
    {
     "name": "stderr",
     "output_type": "stream",
     "text": [
      "  8%|▊         | 14/169 [01:41<22:15,  8.62s/it]"
     ]
    },
    {
     "name": "stdout",
     "output_type": "stream",
     "text": [
      "['0', '1', '0', '1', '0', '0', '1', '1', '1', '1', '1', '1', '1', '1']\n"
     ]
    },
    {
     "name": "stderr",
     "output_type": "stream",
     "text": [
      "  9%|▉         | 15/169 [01:50<22:26,  8.74s/it]"
     ]
    },
    {
     "name": "stdout",
     "output_type": "stream",
     "text": [
      "['1', '0', '0', '0', '1', '1', '1', '1', '1', '1', '1', '0', '1', '1']\n"
     ]
    },
    {
     "name": "stderr",
     "output_type": "stream",
     "text": [
      "  9%|▉         | 16/169 [02:00<22:53,  8.98s/it]"
     ]
    },
    {
     "name": "stdout",
     "output_type": "stream",
     "text": [
      "['1', '1', '0', '0', '1', '0', '0', '0', 'I', '0', '0', '1', '0', '0']\n"
     ]
    },
    {
     "name": "stderr",
     "output_type": "stream",
     "text": [
      " 10%|█         | 17/169 [02:10<23:51,  9.42s/it]"
     ]
    },
    {
     "name": "stdout",
     "output_type": "stream",
     "text": [
      "['1', '1', '1', '1', '0', '0', '1', '0', '1', '0', '0', '1', '0', '0']\n"
     ]
    },
    {
     "name": "stderr",
     "output_type": "stream",
     "text": [
      " 11%|█         | 18/169 [02:23<26:31, 10.54s/it]"
     ]
    },
    {
     "name": "stdout",
     "output_type": "stream",
     "text": [
      "['1', '1', '1', '1', '1', '1', '0', '1', '1', '0', '1', '1', '1', '1']\n"
     ]
    },
    {
     "name": "stderr",
     "output_type": "stream",
     "text": [
      " 11%|█         | 19/169 [02:36<27:46, 11.11s/it]"
     ]
    },
    {
     "name": "stdout",
     "output_type": "stream",
     "text": [
      "['1', '1', '0', '0', '0', '1', '1', '1', '1', '1', '1', 'You', '1', '0']\n"
     ]
    },
    {
     "name": "stderr",
     "output_type": "stream",
     "text": [
      " 12%|█▏        | 20/169 [02:44<25:42, 10.35s/it]"
     ]
    },
    {
     "name": "stdout",
     "output_type": "stream",
     "text": [
      "['1', '1', '0', '1', '1', '1', '1', '0', '0', '1', '1', '1', '1', '1']\n"
     ]
    },
    {
     "name": "stderr",
     "output_type": "stream",
     "text": [
      " 12%|█▏        | 21/169 [02:52<23:20,  9.46s/it]"
     ]
    },
    {
     "name": "stdout",
     "output_type": "stream",
     "text": [
      "['1', '1', '1', '1', '1', '1', '0', '1', '1', '1', '1', '1', '1', '0']\n"
     ]
    },
    {
     "name": "stderr",
     "output_type": "stream",
     "text": [
      " 13%|█▎        | 22/169 [03:00<22:31,  9.20s/it]"
     ]
    },
    {
     "name": "stdout",
     "output_type": "stream",
     "text": [
      "['0', '1', '1', '1', '0', '1', '0', '1', '1', '0', '0', '1', '0', '0']\n"
     ]
    },
    {
     "name": "stderr",
     "output_type": "stream",
     "text": [
      " 14%|█▎        | 23/169 [03:09<22:01,  9.05s/it]"
     ]
    },
    {
     "name": "stdout",
     "output_type": "stream",
     "text": [
      "['0', '0', '0', '0', '0', '1', '1', '1', '1', '0', '0', '0', '1', '0']\n"
     ]
    },
    {
     "name": "stderr",
     "output_type": "stream",
     "text": [
      " 14%|█▍        | 24/169 [03:18<22:00,  9.10s/it]"
     ]
    },
    {
     "name": "stdout",
     "output_type": "stream",
     "text": [
      "['0', '0', '1', '0', '1', '1', '0', '1', '1', '1', '0', '0', '1', '1']\n"
     ]
    },
    {
     "name": "stderr",
     "output_type": "stream",
     "text": [
      " 15%|█▍        | 25/169 [03:27<21:12,  8.84s/it]"
     ]
    },
    {
     "name": "stdout",
     "output_type": "stream",
     "text": [
      "['0', '0', '1', '0', '0', '1', '1', '1', '1', '1', '1', '1', '1', '0']\n"
     ]
    },
    {
     "name": "stderr",
     "output_type": "stream",
     "text": [
      " 15%|█▌        | 26/169 [03:33<19:01,  7.98s/it]"
     ]
    },
    {
     "name": "stdout",
     "output_type": "stream",
     "text": [
      "['0', 'If', '0', '0', 'Par', 'I', 'I', 'I', 'Here', 'I', 'If', '0', 'I', 'She']\n"
     ]
    },
    {
     "name": "stderr",
     "output_type": "stream",
     "text": [
      " 16%|█▌        | 27/169 [03:41<19:32,  8.26s/it]"
     ]
    },
    {
     "name": "stdout",
     "output_type": "stream",
     "text": [
      "['1', '1', '1', '0', '1', '0', '1', '1', '1', '1', '1', '1', '1', '1']\n"
     ]
    },
    {
     "name": "stderr",
     "output_type": "stream",
     "text": [
      " 17%|█▋        | 28/169 [03:50<19:40,  8.37s/it]"
     ]
    },
    {
     "name": "stdout",
     "output_type": "stream",
     "text": [
      "['1', '1', '1', '1', '0', '1', '1', '1', '1', '0', '1', '0', '1', '1']\n"
     ]
    },
    {
     "name": "stderr",
     "output_type": "stream",
     "text": [
      " 17%|█▋        | 29/169 [03:57<18:34,  7.96s/it]"
     ]
    },
    {
     "name": "stdout",
     "output_type": "stream",
     "text": [
      "['1', '1', '1', '1', '1', '0', '1', '1', '1', '1', '1', '1', '1', '1']\n"
     ]
    },
    {
     "name": "stderr",
     "output_type": "stream",
     "text": [
      " 18%|█▊        | 30/169 [04:04<17:32,  7.57s/it]"
     ]
    },
    {
     "name": "stdout",
     "output_type": "stream",
     "text": [
      "['1', '1', '1', '1', '1', '0', '1', '1', '1', '1', '1', '1', '1', '1']\n"
     ]
    },
    {
     "name": "stderr",
     "output_type": "stream",
     "text": [
      " 18%|█▊        | 31/169 [04:13<18:23,  8.00s/it]"
     ]
    },
    {
     "name": "stdout",
     "output_type": "stream",
     "text": [
      "['1', '1', '1', '1', '1', '1', '1', '1', '1', '1', '1', '1', '0', '1']\n"
     ]
    },
    {
     "name": "stderr",
     "output_type": "stream",
     "text": [
      " 19%|█▉        | 32/169 [04:24<20:12,  8.85s/it]"
     ]
    },
    {
     "name": "stdout",
     "output_type": "stream",
     "text": [
      "['0', '0', '0', '0', '0', '0', '0', '0', '0', '0', '0', '0', '0', '0']\n"
     ]
    },
    {
     "name": "stderr",
     "output_type": "stream",
     "text": [
      " 20%|█▉        | 33/169 [04:36<22:26,  9.90s/it]"
     ]
    },
    {
     "name": "stdout",
     "output_type": "stream",
     "text": [
      "['1', '1', '1', '1', '0', '1', '1', '0', '0', '0', '1', '1', '0', '0']\n"
     ]
    },
    {
     "name": "stderr",
     "output_type": "stream",
     "text": [
      " 20%|██        | 34/169 [04:44<21:15,  9.44s/it]"
     ]
    },
    {
     "name": "stdout",
     "output_type": "stream",
     "text": [
      "['0', '1', '1', '0', '1', '1', '1', '1', '1', '1', '0', '0', '1', '1']\n"
     ]
    },
    {
     "name": "stderr",
     "output_type": "stream",
     "text": [
      " 21%|██        | 35/169 [04:54<20:58,  9.39s/it]"
     ]
    },
    {
     "name": "stdout",
     "output_type": "stream",
     "text": [
      "['It', '1', '1', '0', '1', '1', '0', '1', '1', 'I', '1', '0', '1', '1']\n"
     ]
    },
    {
     "name": "stderr",
     "output_type": "stream",
     "text": [
      " 21%|██▏       | 36/169 [05:04<21:50,  9.85s/it]"
     ]
    },
    {
     "name": "stdout",
     "output_type": "stream",
     "text": [
      "['0', '0', '1', '0', '0', '1', '1', '1', '0', '1', '0', '1', '0', '0']\n"
     ]
    },
    {
     "name": "stderr",
     "output_type": "stream",
     "text": [
      " 22%|██▏       | 37/169 [05:14<21:25,  9.74s/it]"
     ]
    },
    {
     "name": "stdout",
     "output_type": "stream",
     "text": [
      "['1', '0', '1', '1', '1', '1', '0', '0', '1', '0', '0', '1', '1', '0']\n"
     ]
    },
    {
     "name": "stderr",
     "output_type": "stream",
     "text": [
      " 22%|██▏       | 38/169 [05:22<20:02,  9.18s/it]"
     ]
    },
    {
     "name": "stdout",
     "output_type": "stream",
     "text": [
      "['0', '0', '0', '1', '0', '1', '0', '0', '1', '0', 'You', '1', '0', '0']\n"
     ]
    },
    {
     "name": "stderr",
     "output_type": "stream",
     "text": [
      " 23%|██▎       | 39/169 [05:35<22:44, 10.50s/it]"
     ]
    },
    {
     "name": "stdout",
     "output_type": "stream",
     "text": [
      "['0', '0', '1', '1', '0', '0', '1', '1', '0', '1', '1', '0', '0', '0']\n"
     ]
    },
    {
     "name": "stderr",
     "output_type": "stream",
     "text": [
      " 24%|██▎       | 40/169 [05:51<25:37, 11.92s/it]"
     ]
    },
    {
     "name": "stdout",
     "output_type": "stream",
     "text": [
      "['1', '1', '1', '1', '1', '1', '1', '0', '1', '1', '1', '1', '1', '1']\n"
     ]
    },
    {
     "name": "stderr",
     "output_type": "stream",
     "text": [
      " 24%|██▍       | 41/169 [06:02<25:18, 11.87s/it]"
     ]
    },
    {
     "name": "stdout",
     "output_type": "stream",
     "text": [
      "['0', '0', '0', '0', '1', '0', '1', '1', '0', '1', '1', '1', '1', '1']\n"
     ]
    },
    {
     "name": "stderr",
     "output_type": "stream",
     "text": [
      " 25%|██▍       | 42/169 [06:11<22:57, 10.85s/it]"
     ]
    },
    {
     "name": "stdout",
     "output_type": "stream",
     "text": [
      "['1', '0', '1', '1', '0', '1', '1', '1', '0', '1', '1', '1', '0', '0']\n"
     ]
    },
    {
     "name": "stderr",
     "output_type": "stream",
     "text": [
      " 25%|██▌       | 43/169 [06:21<22:39, 10.79s/it]"
     ]
    },
    {
     "name": "stdout",
     "output_type": "stream",
     "text": [
      "['1', '0', '1', '0', '1', '0', '0', '1', '1', '1', '1', '1', '1', '1']\n"
     ]
    },
    {
     "name": "stderr",
     "output_type": "stream",
     "text": [
      " 26%|██▌       | 44/169 [06:31<21:51, 10.49s/it]"
     ]
    },
    {
     "name": "stdout",
     "output_type": "stream",
     "text": [
      "['I', '0', '0', '0', '1', 'I', '0', 'I', '\\n', '1', 'I', 'I', 'You', '1']\n"
     ]
    },
    {
     "name": "stderr",
     "output_type": "stream",
     "text": [
      " 27%|██▋       | 45/169 [06:39<19:43,  9.55s/it]"
     ]
    },
    {
     "name": "stdout",
     "output_type": "stream",
     "text": [
      "['It', 'I', 'I', '\\n', 'I', 'I', 'I', 'I', '\\n', 'It', 'I', 'I', '\\n', 'I']\n"
     ]
    },
    {
     "name": "stderr",
     "output_type": "stream",
     "text": [
      " 27%|██▋       | 46/169 [06:44<17:03,  8.32s/it]"
     ]
    },
    {
     "name": "stdout",
     "output_type": "stream",
     "text": [
      "['The', '\\n', 'The', 'I', 'I', 'The', 'The', 'In', '0', 'The', 'I', '\\n', 'I', '0']\n"
     ]
    },
    {
     "name": "stderr",
     "output_type": "stream",
     "text": [
      " 28%|██▊       | 47/169 [06:53<17:04,  8.40s/it]"
     ]
    },
    {
     "name": "stdout",
     "output_type": "stream",
     "text": [
      "['The', 'The', 'I', 'The', 'The', 'The', 'The', 'The', 'The', 'I', 'I', 'The', 'The', 'The']\n"
     ]
    },
    {
     "name": "stderr",
     "output_type": "stream",
     "text": [
      " 28%|██▊       | 48/169 [07:03<18:22,  9.11s/it]"
     ]
    },
    {
     "name": "stdout",
     "output_type": "stream",
     "text": [
      "['0', '0', '0', '1', '0', '0', '1', '1', '\\n', '0', '0', '0', '1', '0']\n"
     ]
    },
    {
     "name": "stderr",
     "output_type": "stream",
     "text": [
      " 29%|██▉       | 49/169 [07:12<17:47,  8.90s/it]"
     ]
    },
    {
     "name": "stdout",
     "output_type": "stream",
     "text": [
      "['1', '1', '0', '1', '1', '0', '0', '0', '1', '1', '1', '1', '0', '0']\n"
     ]
    },
    {
     "name": "stderr",
     "output_type": "stream",
     "text": [
      " 30%|██▉       | 50/169 [07:21<17:33,  8.85s/it]"
     ]
    },
    {
     "name": "stdout",
     "output_type": "stream",
     "text": [
      "['1', '0', '0', '0', '0', '1', '1', '0', '1', '1', '0', '0', '0', '1']\n"
     ]
    },
    {
     "name": "stderr",
     "output_type": "stream",
     "text": [
      " 30%|███       | 51/169 [07:31<18:16,  9.29s/it]"
     ]
    },
    {
     "name": "stdout",
     "output_type": "stream",
     "text": [
      "['1', '0', '1', '1', '1', '1', '1', '1', '1', '1', '1', '1', '1', '1']\n"
     ]
    },
    {
     "name": "stderr",
     "output_type": "stream",
     "text": [
      " 31%|███       | 52/169 [07:44<20:37, 10.57s/it]"
     ]
    },
    {
     "name": "stdout",
     "output_type": "stream",
     "text": [
      "['0', '1', '1', '1', '1', '1', '1', '0', '1', '0', '1', '1', '1', '1']\n"
     ]
    },
    {
     "name": "stderr",
     "output_type": "stream",
     "text": [
      " 31%|███▏      | 53/169 [07:56<20:47, 10.75s/it]"
     ]
    },
    {
     "name": "stdout",
     "output_type": "stream",
     "text": [
      "['1', '1', '1', '0', '1', '0', '1', '0', '1', '0', '0', '1', '1', '1']\n"
     ]
    },
    {
     "name": "stderr",
     "output_type": "stream",
     "text": [
      " 32%|███▏      | 54/169 [08:03<18:28,  9.64s/it]"
     ]
    },
    {
     "name": "stdout",
     "output_type": "stream",
     "text": [
      "['0', '1', '1', '1', '1', '1', '1', '1', '1', '0', '1', '1', '1', '1']\n"
     ]
    },
    {
     "name": "stderr",
     "output_type": "stream",
     "text": [
      " 33%|███▎      | 55/169 [08:12<18:02,  9.50s/it]"
     ]
    },
    {
     "name": "stdout",
     "output_type": "stream",
     "text": [
      "['1', '1', '1', '1', '1', '1', '1', '1', '1', '1', '1', '1', '1', '1']\n"
     ]
    },
    {
     "name": "stderr",
     "output_type": "stream",
     "text": [
      " 33%|███▎      | 56/169 [08:22<18:12,  9.67s/it]"
     ]
    },
    {
     "name": "stdout",
     "output_type": "stream",
     "text": [
      "['1', '1', '1', '1', '1', '1', '1', '1', '1', '1', '1', '1', '1', '1']\n"
     ]
    },
    {
     "name": "stderr",
     "output_type": "stream",
     "text": [
      " 34%|███▎      | 57/169 [08:35<19:50, 10.63s/it]"
     ]
    },
    {
     "name": "stdout",
     "output_type": "stream",
     "text": [
      "['1', '0', '0', '0', '0', '0', '0', '0', '0', '0', '0', '0', '0', '0']\n"
     ]
    },
    {
     "name": "stderr",
     "output_type": "stream",
     "text": [
      " 34%|███▍      | 58/169 [08:46<20:07, 10.88s/it]"
     ]
    },
    {
     "name": "stdout",
     "output_type": "stream",
     "text": [
      "['You', 'Par', '0', '1', 'I', '1', '1', 'The', 'I', '1', 'I', 'I', 'I', '1']\n"
     ]
    },
    {
     "name": "stderr",
     "output_type": "stream",
     "text": [
      " 35%|███▍      | 59/169 [08:54<18:00,  9.83s/it]"
     ]
    },
    {
     "name": "stdout",
     "output_type": "stream",
     "text": [
      "['1', '1', '1', '1', '0', '1', '1', '0', '0', '1', '0', '0', '1', '1']\n"
     ]
    },
    {
     "name": "stderr",
     "output_type": "stream",
     "text": [
      " 36%|███▌      | 60/169 [09:02<16:56,  9.32s/it]"
     ]
    },
    {
     "name": "stdout",
     "output_type": "stream",
     "text": [
      "['1', '1', '0', '0', '0', '0', '1', '1', '0', '1', '1', '0', '1', '1']\n"
     ]
    },
    {
     "name": "stderr",
     "output_type": "stream",
     "text": [
      " 36%|███▌      | 61/169 [09:16<19:36, 10.89s/it]"
     ]
    },
    {
     "name": "stdout",
     "output_type": "stream",
     "text": [
      "['1', '1', '1', '1', '1', '1', '1', '1', '1', '1', '1', '1', '1', '1']\n"
     ]
    },
    {
     "name": "stderr",
     "output_type": "stream",
     "text": [
      " 37%|███▋      | 62/169 [09:31<21:16, 11.93s/it]"
     ]
    },
    {
     "name": "stdout",
     "output_type": "stream",
     "text": [
      "['0', '1', '1', '1', '1', '1', '1', '1', '1', '1', '1', '0', '0', '1']\n"
     ]
    },
    {
     "name": "stderr",
     "output_type": "stream",
     "text": [
      " 37%|███▋      | 63/169 [09:39<19:01, 10.77s/it]"
     ]
    },
    {
     "name": "stdout",
     "output_type": "stream",
     "text": [
      "['1', '0', '0', '1', '1', '0', '1', '0', '1', '0', '1', '0', '0', '1']\n"
     ]
    },
    {
     "name": "stderr",
     "output_type": "stream",
     "text": [
      " 38%|███▊      | 64/169 [09:48<18:00, 10.29s/it]"
     ]
    },
    {
     "name": "stdout",
     "output_type": "stream",
     "text": [
      "['1', '0', '0', '0', '1', '1', '0', '1', '0', '0', '1', '1', '1', '1']\n"
     ]
    },
    {
     "name": "stderr",
     "output_type": "stream",
     "text": [
      " 38%|███▊      | 65/169 [10:02<19:55, 11.50s/it]"
     ]
    },
    {
     "name": "stdout",
     "output_type": "stream",
     "text": [
      "['1', '1', '0', '1', 'You', '1', '0', '1', '0', '1', '1', '1', '0', '0']\n"
     ]
    },
    {
     "name": "stderr",
     "output_type": "stream",
     "text": [
      " 39%|███▉      | 66/169 [10:19<22:29, 13.11s/it]"
     ]
    },
    {
     "name": "stdout",
     "output_type": "stream",
     "text": [
      "['1', '1', '1', '1', '0', '1', '1', '0', '1', '1', '1', '1', '1', '1']\n"
     ]
    },
    {
     "name": "stderr",
     "output_type": "stream",
     "text": [
      " 40%|███▉      | 67/169 [10:26<19:08, 11.26s/it]"
     ]
    },
    {
     "name": "stdout",
     "output_type": "stream",
     "text": [
      "['1', '1', '1', '1', 'You', '1', '1', '1', '1', '1', '1', '1', '1', '1']\n"
     ]
    },
    {
     "name": "stderr",
     "output_type": "stream",
     "text": [
      " 40%|████      | 68/169 [10:32<16:20,  9.70s/it]"
     ]
    },
    {
     "name": "stdout",
     "output_type": "stream",
     "text": [
      "['1', '1', '0', '1', '1', '0', '1', '1', '0', '0', '1', '1', '0', '1']\n"
     ]
    },
    {
     "name": "stderr",
     "output_type": "stream",
     "text": [
      " 41%|████      | 69/169 [10:40<15:08,  9.08s/it]"
     ]
    },
    {
     "name": "stdout",
     "output_type": "stream",
     "text": [
      "['0', '0', '0', '1', '0', '0', '0', '0', '0', '0', '0', '0', '0', '0']\n"
     ]
    },
    {
     "name": "stderr",
     "output_type": "stream",
     "text": [
      " 41%|████▏     | 70/169 [10:48<14:33,  8.82s/it]"
     ]
    },
    {
     "name": "stdout",
     "output_type": "stream",
     "text": [
      "['1', '1', '1', '1', '1', '1', '1', '0', '1', '1', '1', '1', '0', '1']\n"
     ]
    },
    {
     "name": "stderr",
     "output_type": "stream",
     "text": [
      " 42%|████▏     | 71/169 [10:58<14:57,  9.16s/it]"
     ]
    },
    {
     "name": "stdout",
     "output_type": "stream",
     "text": [
      "['0', '1', '1', '1', '1', '1', '1', '1', '1', '0', '1', '0', '1', '0']\n"
     ]
    },
    {
     "name": "stderr",
     "output_type": "stream",
     "text": [
      " 43%|████▎     | 72/169 [11:11<16:55, 10.47s/it]"
     ]
    },
    {
     "name": "stdout",
     "output_type": "stream",
     "text": [
      "['1', '1', '1', '1', '1', '1', '1', '1', '0', '1', '1', '1', '1', '1']\n"
     ]
    },
    {
     "name": "stderr",
     "output_type": "stream",
     "text": [
      " 43%|████▎     | 73/169 [11:21<16:04, 10.05s/it]"
     ]
    },
    {
     "name": "stdout",
     "output_type": "stream",
     "text": [
      "['0', '0', '0', '1', '1', '0', '1', '0', 'I', '0', '1', '0', '1', '0']\n"
     ]
    },
    {
     "name": "stderr",
     "output_type": "stream",
     "text": [
      " 44%|████▍     | 74/169 [11:29<15:09,  9.57s/it]"
     ]
    },
    {
     "name": "stdout",
     "output_type": "stream",
     "text": [
      "['1', '1', '1', '1', '0', '1', '1', '1', '1', '1', '1', '1', '0', '1']\n"
     ]
    },
    {
     "name": "stderr",
     "output_type": "stream",
     "text": [
      " 44%|████▍     | 75/169 [11:36<13:38,  8.71s/it]"
     ]
    },
    {
     "name": "stdout",
     "output_type": "stream",
     "text": [
      "['1', '0', '1', '0', '0', '0', '0', '1', '0', '0', '1', '0', '1', '0']\n"
     ]
    },
    {
     "name": "stderr",
     "output_type": "stream",
     "text": [
      " 45%|████▍     | 76/169 [11:44<13:29,  8.71s/it]"
     ]
    },
    {
     "name": "stdout",
     "output_type": "stream",
     "text": [
      "['0', '0', '1', '0', '1', '0', 'Here', '1', '1', '1', '1', '0', '0', '1']\n"
     ]
    },
    {
     "name": "stderr",
     "output_type": "stream",
     "text": [
      " 46%|████▌     | 77/169 [11:58<15:23, 10.03s/it]"
     ]
    },
    {
     "name": "stdout",
     "output_type": "stream",
     "text": [
      "['1', '1', '0', '0', '1', '0', '1', '1', '1', '1', '1', '1', '1', '0']\n"
     ]
    },
    {
     "name": "stderr",
     "output_type": "stream",
     "text": [
      " 46%|████▌     | 78/169 [12:11<16:36, 10.95s/it]"
     ]
    },
    {
     "name": "stdout",
     "output_type": "stream",
     "text": [
      "['1', '1', '1', '1', '1', '1', '1', '1', '1', '1', '0', '0', '0', '1']\n"
     ]
    },
    {
     "name": "stderr",
     "output_type": "stream",
     "text": [
      " 47%|████▋     | 79/169 [12:19<15:15, 10.17s/it]"
     ]
    },
    {
     "name": "stdout",
     "output_type": "stream",
     "text": [
      "['1', '1', '0', '0', '1', 'I', '1', '0', '0', '1', '0', '0', '0', '1']\n"
     ]
    },
    {
     "name": "stderr",
     "output_type": "stream",
     "text": [
      " 47%|████▋     | 80/169 [12:28<14:45,  9.95s/it]"
     ]
    },
    {
     "name": "stdout",
     "output_type": "stream",
     "text": [
      "['1', '1', '1', '1', '0', '0', '0', '0', '1', '1', '1', '1', '1', '1']\n"
     ]
    },
    {
     "name": "stderr",
     "output_type": "stream",
     "text": [
      " 48%|████▊     | 81/169 [12:38<14:20,  9.77s/it]"
     ]
    },
    {
     "name": "stdout",
     "output_type": "stream",
     "text": [
      "['1', '1', '0', '0', '1', '1', '1', '1', '1', '1', '1', '1', '1', '1']\n"
     ]
    },
    {
     "name": "stderr",
     "output_type": "stream",
     "text": [
      " 49%|████▊     | 82/169 [12:47<13:46,  9.50s/it]"
     ]
    },
    {
     "name": "stdout",
     "output_type": "stream",
     "text": [
      "['0', '0', '0', '1', '1', '0', '0', '1', '1', '1', '1', '0', '1', '1']\n"
     ]
    },
    {
     "name": "stderr",
     "output_type": "stream",
     "text": [
      " 49%|████▉     | 83/169 [12:54<12:49,  8.95s/it]"
     ]
    },
    {
     "name": "stdout",
     "output_type": "stream",
     "text": [
      "['1', '0', '1', '1', '1', '0', '0', '0', '1', '0', '1', '1', '0', '0']\n"
     ]
    },
    {
     "name": "stderr",
     "output_type": "stream",
     "text": [
      " 50%|████▉     | 84/169 [13:03<12:30,  8.83s/it]"
     ]
    },
    {
     "name": "stdout",
     "output_type": "stream",
     "text": [
      "['0', '0', '1', '1', '1', '1', '1', '1', '0', '1', '0', '1', '0', '1']\n"
     ]
    },
    {
     "name": "stderr",
     "output_type": "stream",
     "text": [
      " 50%|█████     | 85/169 [13:13<13:03,  9.33s/it]"
     ]
    },
    {
     "name": "stdout",
     "output_type": "stream",
     "text": [
      "['1', '0', '0', '1', '1', '1', '0', '1', '0', '1', '1', '0', '1', '0']\n"
     ]
    },
    {
     "name": "stderr",
     "output_type": "stream",
     "text": [
      " 51%|█████     | 86/169 [13:22<12:38,  9.14s/it]"
     ]
    },
    {
     "name": "stdout",
     "output_type": "stream",
     "text": [
      "['1', '1', '1', '1', '1', '1', '1', '1', '1', '1', '0', '1', '1', '1']\n"
     ]
    },
    {
     "name": "stderr",
     "output_type": "stream",
     "text": [
      " 51%|█████▏    | 87/169 [13:29<11:38,  8.52s/it]"
     ]
    },
    {
     "name": "stdout",
     "output_type": "stream",
     "text": [
      "['1', '1', '0', '1', '0', '1', '0', '1', '1', '1', '0', '0', '0', '0']\n"
     ]
    },
    {
     "name": "stderr",
     "output_type": "stream",
     "text": [
      " 52%|█████▏    | 88/169 [13:37<11:12,  8.30s/it]"
     ]
    },
    {
     "name": "stdout",
     "output_type": "stream",
     "text": [
      "['Par', 'Par', 'I', 'You', 'You', '\\n', '\\n', '\\n', 'You', 'You', '\\n', 'You', 'The', 'You']\n"
     ]
    },
    {
     "name": "stderr",
     "output_type": "stream",
     "text": [
      " 53%|█████▎    | 89/169 [13:47<11:49,  8.86s/it]"
     ]
    },
    {
     "name": "stdout",
     "output_type": "stream",
     "text": [
      "['1', '0', '1', '0', '1', '1', '0', '0', '1', '1', '0', '0', 'You', '1']\n"
     ]
    },
    {
     "name": "stderr",
     "output_type": "stream",
     "text": [
      " 53%|█████▎    | 90/169 [13:56<11:49,  8.98s/it]"
     ]
    },
    {
     "name": "stdout",
     "output_type": "stream",
     "text": [
      "['1', '0', '1', '0', '1', '0', '1', '0', '0', '1', '0', '1', '0', '1']\n"
     ]
    },
    {
     "name": "stderr",
     "output_type": "stream",
     "text": [
      " 54%|█████▍    | 91/169 [14:04<11:10,  8.60s/it]"
     ]
    },
    {
     "name": "stdout",
     "output_type": "stream",
     "text": [
      "['0', '1', '1', '1', '0', '1', '1', '1', '1', '0', '0', '1', '0', '0']\n"
     ]
    },
    {
     "name": "stderr",
     "output_type": "stream",
     "text": [
      " 54%|█████▍    | 92/169 [14:17<12:54, 10.06s/it]"
     ]
    },
    {
     "name": "stdout",
     "output_type": "stream",
     "text": [
      "['1', '1', '1', '1', '1', '1', '0', '0', '1', '1', '1', '1', '1', '1']\n"
     ]
    },
    {
     "name": "stderr",
     "output_type": "stream",
     "text": [
      " 55%|█████▌    | 93/169 [14:38<16:50, 13.30s/it]"
     ]
    },
    {
     "name": "stdout",
     "output_type": "stream",
     "text": [
      "['1', '1', '1', '1', '0', '1', '1', '0', '1', '1', '1', '0', '1', '1']\n"
     ]
    },
    {
     "name": "stderr",
     "output_type": "stream",
     "text": [
      " 56%|█████▌    | 94/169 [14:55<17:48, 14.25s/it]"
     ]
    },
    {
     "name": "stdout",
     "output_type": "stream",
     "text": [
      "['1', '1', 'The', '1', '1', '1', '1', '1', '1', '1', '1', '1', '0', '0']\n"
     ]
    },
    {
     "name": "stderr",
     "output_type": "stream",
     "text": [
      " 56%|█████▌    | 95/169 [15:02<14:54, 12.09s/it]"
     ]
    },
    {
     "name": "stdout",
     "output_type": "stream",
     "text": [
      "['0', '0', '1', '1', '1', '1', '0', '0', '0', '0', '1', '1', '0', '1']\n"
     ]
    },
    {
     "name": "stderr",
     "output_type": "stream",
     "text": [
      " 57%|█████▋    | 96/169 [15:10<13:20, 10.97s/it]"
     ]
    },
    {
     "name": "stdout",
     "output_type": "stream",
     "text": [
      "['0', '1', '1', '0', '0', '1', '1', '1', '1', '1', '1', '0', '1', '1']\n"
     ]
    },
    {
     "name": "stderr",
     "output_type": "stream",
     "text": [
      " 57%|█████▋    | 97/169 [15:18<12:01, 10.02s/it]"
     ]
    },
    {
     "name": "stdout",
     "output_type": "stream",
     "text": [
      "['1', '1', '1', '0', '1', 'P', '1', '1', '1', '1', '1', '1', '1', 'P']\n"
     ]
    },
    {
     "name": "stderr",
     "output_type": "stream",
     "text": [
      " 58%|█████▊    | 98/169 [15:25<10:42,  9.05s/it]"
     ]
    },
    {
     "name": "stdout",
     "output_type": "stream",
     "text": [
      "['0', '1', '0', '1', '1', '0', '1', '0', '1', '0', '0', '0', '0', '0']\n"
     ]
    },
    {
     "name": "stderr",
     "output_type": "stream",
     "text": [
      " 59%|█████▊    | 99/169 [15:37<11:37,  9.97s/it]"
     ]
    },
    {
     "name": "stdout",
     "output_type": "stream",
     "text": [
      "['1', '1', '0', '0', '1', '1', '1', '1', '1', '1', '1', '1', '1', '0']\n"
     ]
    },
    {
     "name": "stderr",
     "output_type": "stream",
     "text": [
      " 59%|█████▉    | 100/169 [15:48<11:52, 10.32s/it]"
     ]
    },
    {
     "name": "stdout",
     "output_type": "stream",
     "text": [
      "['1', '0', '1', '1', '1', '0', '0', '0', '0', '1', '0', '1', '0', '1']\n"
     ]
    },
    {
     "name": "stderr",
     "output_type": "stream",
     "text": [
      " 60%|█████▉    | 101/169 [16:00<12:18, 10.86s/it]"
     ]
    },
    {
     "name": "stdout",
     "output_type": "stream",
     "text": [
      "['1', '1', '0', '0', '1', '1', '1', '0', 'Based', '0', '0', '0', '0', '0']\n"
     ]
    },
    {
     "name": "stderr",
     "output_type": "stream",
     "text": [
      " 60%|██████    | 102/169 [16:10<11:46, 10.54s/it]"
     ]
    },
    {
     "name": "stdout",
     "output_type": "stream",
     "text": [
      "['1', '1', '1', '0', '1', '1', '0', '0', '1', '1', '1', '1', '0', '1']\n"
     ]
    },
    {
     "name": "stderr",
     "output_type": "stream",
     "text": [
      " 61%|██████    | 103/169 [16:18<10:45,  9.78s/it]"
     ]
    },
    {
     "name": "stdout",
     "output_type": "stream",
     "text": [
      "['I', 'Par', 'I', 'I', 'I', 'Please', 'Par', 'I', 'Par', 'Par', 'Par', 'Par', 'You', 'I']\n"
     ]
    },
    {
     "name": "stderr",
     "output_type": "stream",
     "text": [
      " 62%|██████▏   | 104/169 [16:25<09:43,  8.97s/it]"
     ]
    },
    {
     "name": "stdout",
     "output_type": "stream",
     "text": [
      "['I', 'It', 'Par', 'I', '1', 'I', 'Par', 'Par', 'I', 'I', 'I', 'I', 'I', 'Par']\n"
     ]
    },
    {
     "name": "stderr",
     "output_type": "stream",
     "text": [
      " 62%|██████▏   | 105/169 [16:42<12:07, 11.36s/it]"
     ]
    },
    {
     "name": "stdout",
     "output_type": "stream",
     "text": [
      "['0', '0', '0', '0', '0', '0', '0', '1', '0', '0', '0', '0', '0', '0']\n"
     ]
    },
    {
     "name": "stderr",
     "output_type": "stream",
     "text": [
      " 63%|██████▎   | 106/169 [16:52<11:34, 11.03s/it]"
     ]
    },
    {
     "name": "stdout",
     "output_type": "stream",
     "text": [
      "['0', '0', '0', '0', '0', '0', '1', '0', '0', '0', '1', '0', '0', 'It']\n"
     ]
    },
    {
     "name": "stderr",
     "output_type": "stream",
     "text": [
      " 63%|██████▎   | 107/169 [17:02<11:01, 10.67s/it]"
     ]
    },
    {
     "name": "stdout",
     "output_type": "stream",
     "text": [
      "['1', '1', '1', '1', '1', '1', '1', '1', '1', '1', '1', '1', '0', '1']\n"
     ]
    },
    {
     "name": "stderr",
     "output_type": "stream",
     "text": [
      " 64%|██████▍   | 108/169 [17:12<10:31, 10.35s/it]"
     ]
    },
    {
     "name": "stdout",
     "output_type": "stream",
     "text": [
      "['1', '0', '1', '1', '1', '1', '1', '1', '1', '1', '1', '0', '1', '0']\n"
     ]
    },
    {
     "name": "stderr",
     "output_type": "stream",
     "text": [
      " 64%|██████▍   | 109/169 [17:20<09:47,  9.79s/it]"
     ]
    },
    {
     "name": "stdout",
     "output_type": "stream",
     "text": [
      "['0', '0', '0', '1', '1', '1', '0', '1', '1', '1', '1', '1', '1', '1']\n"
     ]
    },
    {
     "name": "stderr",
     "output_type": "stream",
     "text": [
      " 65%|██████▌   | 110/169 [17:29<09:15,  9.41s/it]"
     ]
    },
    {
     "name": "stdout",
     "output_type": "stream",
     "text": [
      "['1', '1', '1', '1', '0', '0', '1', '1', '1', '0', '1', '1', '0', '1']\n"
     ]
    },
    {
     "name": "stderr",
     "output_type": "stream",
     "text": [
      " 66%|██████▌   | 111/169 [17:37<08:46,  9.08s/it]"
     ]
    },
    {
     "name": "stdout",
     "output_type": "stream",
     "text": [
      "['0', '0', '1', '0', '1', '0', '1', '1', '1', '0', '1', '0', '1', '1']\n"
     ]
    },
    {
     "name": "stderr",
     "output_type": "stream",
     "text": [
      " 66%|██████▋   | 112/169 [17:45<08:17,  8.73s/it]"
     ]
    },
    {
     "name": "stdout",
     "output_type": "stream",
     "text": [
      "['0', '1', '0', '0', '1', '1', '1', '1', '1', '1', '0', '1', '0', '0']\n"
     ]
    },
    {
     "name": "stderr",
     "output_type": "stream",
     "text": [
      " 67%|██████▋   | 113/169 [17:51<07:31,  8.06s/it]"
     ]
    },
    {
     "name": "stdout",
     "output_type": "stream",
     "text": [
      "['1', '0', '1', '1', '1', '0', '1', '1', '0', '1', '1', '1', '1', '1']\n"
     ]
    },
    {
     "name": "stderr",
     "output_type": "stream",
     "text": [
      " 67%|██████▋   | 114/169 [17:59<07:10,  7.82s/it]"
     ]
    },
    {
     "name": "stdout",
     "output_type": "stream",
     "text": [
      "['1', '1', '0', '0', '1', '0', '1', '1', '0', '1', '1', '1', '1', '0']\n"
     ]
    },
    {
     "name": "stderr",
     "output_type": "stream",
     "text": [
      " 68%|██████▊   | 115/169 [18:07<07:10,  7.97s/it]"
     ]
    },
    {
     "name": "stdout",
     "output_type": "stream",
     "text": [
      "['0', '1', '0', '1', '0', '1', '1', '0', '0', '0', '0', '1', '0', '0']\n"
     ]
    },
    {
     "name": "stderr",
     "output_type": "stream",
     "text": [
      " 69%|██████▊   | 116/169 [18:17<07:33,  8.56s/it]"
     ]
    },
    {
     "name": "stdout",
     "output_type": "stream",
     "text": [
      "['0', '1', '0', '0', '1', '1', '1', '1', '0', '0', '0', '1', '1', '1']\n"
     ]
    },
    {
     "name": "stderr",
     "output_type": "stream",
     "text": [
      " 69%|██████▉   | 117/169 [18:27<07:43,  8.92s/it]"
     ]
    },
    {
     "name": "stdout",
     "output_type": "stream",
     "text": [
      "['1', '1', '1', '0', '1', '0', '0', '0', '1', '0', '1', '0', '1', '0']\n"
     ]
    },
    {
     "name": "stderr",
     "output_type": "stream",
     "text": [
      " 70%|██████▉   | 118/169 [18:35<07:27,  8.77s/it]"
     ]
    },
    {
     "name": "stdout",
     "output_type": "stream",
     "text": [
      "['1', 'The', '0', 'Un', '0', '1', '0', '1', '0', '1', '1', '1', 'Un', '1']\n"
     ]
    },
    {
     "name": "stderr",
     "output_type": "stream",
     "text": [
      " 70%|███████   | 119/169 [18:43<07:04,  8.49s/it]"
     ]
    },
    {
     "name": "stdout",
     "output_type": "stream",
     "text": [
      "['1', '0', '1', '1', '1', '1', 'Te', '1', '1', '1', '\\n', '1', '1', '1']\n"
     ]
    },
    {
     "name": "stderr",
     "output_type": "stream",
     "text": [
      " 71%|███████   | 120/169 [18:52<06:57,  8.52s/it]"
     ]
    },
    {
     "name": "stdout",
     "output_type": "stream",
     "text": [
      "['0', '0', '0', '0', '1', '1', '1', '0', 'If', '0', '1', '0', '0', '0']\n"
     ]
    },
    {
     "name": "stderr",
     "output_type": "stream",
     "text": [
      " 72%|███████▏  | 121/169 [19:01<06:58,  8.71s/it]"
     ]
    },
    {
     "name": "stdout",
     "output_type": "stream",
     "text": [
      "['1', '0', '0', '1', '1', '1', '0', '1', '1', '1', '1', '1', '0', '1']\n"
     ]
    },
    {
     "name": "stderr",
     "output_type": "stream",
     "text": [
      " 72%|███████▏  | 122/169 [19:09<06:37,  8.46s/it]"
     ]
    },
    {
     "name": "stdout",
     "output_type": "stream",
     "text": [
      "['0', '0', '0', '0', '1', '0', '0', '0', '0', '0', '0', '0', '1', '1']\n"
     ]
    },
    {
     "name": "stderr",
     "output_type": "stream",
     "text": [
      " 73%|███████▎  | 123/169 [19:21<07:28,  9.74s/it]"
     ]
    },
    {
     "name": "stdout",
     "output_type": "stream",
     "text": [
      "['0', '0', '1', '0', '0', '0', '1', '0', '0', '0', '0', '0', '0', '1']\n"
     ]
    },
    {
     "name": "stderr",
     "output_type": "stream",
     "text": [
      " 73%|███████▎  | 124/169 [19:36<08:20, 11.12s/it]"
     ]
    },
    {
     "name": "stdout",
     "output_type": "stream",
     "text": [
      "['0', '0', '1', '1', '1', '1', '0', '0', '1', '0', '1', '0', '1', '1']\n"
     ]
    },
    {
     "name": "stderr",
     "output_type": "stream",
     "text": [
      " 74%|███████▍  | 125/169 [19:44<07:35, 10.34s/it]"
     ]
    },
    {
     "name": "stdout",
     "output_type": "stream",
     "text": [
      "['0', '1', '1', '1', '1', '1', '1', 'It', '1', '1', '0', '1', '1', '1']\n"
     ]
    },
    {
     "name": "stderr",
     "output_type": "stream",
     "text": [
      " 75%|███████▍  | 126/169 [19:53<07:03,  9.85s/it]"
     ]
    },
    {
     "name": "stdout",
     "output_type": "stream",
     "text": [
      "['1', '1', '1', '0', '0', '1', '1', '1', '0', '1', '0', '1', '1', '1']\n"
     ]
    },
    {
     "name": "stderr",
     "output_type": "stream",
     "text": [
      " 75%|███████▌  | 127/169 [20:03<07:02, 10.05s/it]"
     ]
    },
    {
     "name": "stdout",
     "output_type": "stream",
     "text": [
      "['1', '1', '1', '0', '0', '1', '0', '1', '0', '1', '1', '1', '0', '1']\n"
     ]
    },
    {
     "name": "stderr",
     "output_type": "stream",
     "text": [
      " 76%|███████▌  | 128/169 [20:14<07:00, 10.25s/it]"
     ]
    },
    {
     "name": "stdout",
     "output_type": "stream",
     "text": [
      "['0', '1', 'I', 'I', '1', '0', 'You', 'I', 'This', 'I', 'I', 'I', '1', '0']\n"
     ]
    },
    {
     "name": "stderr",
     "output_type": "stream",
     "text": [
      " 76%|███████▋  | 129/169 [20:23<06:33,  9.83s/it]"
     ]
    },
    {
     "name": "stdout",
     "output_type": "stream",
     "text": [
      "['0', '1', '1', '1', '1', '0', '1', '1', '0', '1', '1', '0', '1', '0']\n"
     ]
    },
    {
     "name": "stderr",
     "output_type": "stream",
     "text": [
      " 77%|███████▋  | 130/169 [20:33<06:28,  9.95s/it]"
     ]
    },
    {
     "name": "stdout",
     "output_type": "stream",
     "text": [
      "['1', '1', '1', '1', '1', '1', '1', '1', '0', '1', '1', '1', '0', '1']\n"
     ]
    },
    {
     "name": "stderr",
     "output_type": "stream",
     "text": [
      " 78%|███████▊  | 131/169 [20:46<06:54, 10.90s/it]"
     ]
    },
    {
     "name": "stdout",
     "output_type": "stream",
     "text": [
      "['1', '0', '0', '1', '0', '0', '1', '0', '0', '0', '1', '0', '0', '1']\n"
     ]
    },
    {
     "name": "stderr",
     "output_type": "stream",
     "text": [
      " 78%|███████▊  | 132/169 [20:55<06:17, 10.21s/it]"
     ]
    },
    {
     "name": "stdout",
     "output_type": "stream",
     "text": [
      "['1', '0', '1', '1', '1', '1', '1', '1', '1', '1', '1', '1', '1', '0']\n"
     ]
    },
    {
     "name": "stderr",
     "output_type": "stream",
     "text": [
      " 79%|███████▊  | 133/169 [21:05<06:02, 10.08s/it]"
     ]
    },
    {
     "name": "stdout",
     "output_type": "stream",
     "text": [
      "['0', '0', '1', '1', '0', '1', '1', '1', '1', '1', '0', '1', '1', '1']\n"
     ]
    },
    {
     "name": "stderr",
     "output_type": "stream",
     "text": [
      " 79%|███████▉  | 134/169 [21:13<05:39,  9.70s/it]"
     ]
    },
    {
     "name": "stdout",
     "output_type": "stream",
     "text": [
      "['1', '1', '0', '1', '1', '0', '0', '0', '1', '1', '0', '0', '1', '0']\n"
     ]
    },
    {
     "name": "stderr",
     "output_type": "stream",
     "text": [
      " 80%|███████▉  | 135/169 [21:28<06:23, 11.29s/it]"
     ]
    },
    {
     "name": "stdout",
     "output_type": "stream",
     "text": [
      "['1', '0', '1', '1', '0', '1', '1', '0', '1', '0', '1', '1', '0', '1']\n"
     ]
    },
    {
     "name": "stderr",
     "output_type": "stream",
     "text": [
      " 80%|████████  | 136/169 [21:39<06:02, 10.98s/it]"
     ]
    },
    {
     "name": "stdout",
     "output_type": "stream",
     "text": [
      "['0', '1', '0', '0', '1', '1', '0', '1', '1', '0', '1', '0', '1', '1']\n"
     ]
    },
    {
     "name": "stderr",
     "output_type": "stream",
     "text": [
      " 81%|████████  | 137/169 [21:48<05:36, 10.51s/it]"
     ]
    },
    {
     "name": "stdout",
     "output_type": "stream",
     "text": [
      "['1', '1', '0', '0', '0', '1', '0', '1', '0', '0', '0', '0', '1', '0']\n"
     ]
    },
    {
     "name": "stderr",
     "output_type": "stream",
     "text": [
      " 82%|████████▏ | 138/169 [21:57<05:09,  9.97s/it]"
     ]
    },
    {
     "name": "stdout",
     "output_type": "stream",
     "text": [
      "['1', '1', '1', '0', '0', '1', '1', '0', '1', '0', '1', '0', '1', '0']\n"
     ]
    },
    {
     "name": "stderr",
     "output_type": "stream",
     "text": [
      " 82%|████████▏ | 139/169 [22:03<04:24,  8.82s/it]"
     ]
    },
    {
     "name": "stdout",
     "output_type": "stream",
     "text": [
      "['0', '0', '0', '0', '0', '0', '1', '0', '0', '1', '0', '0', '0', '1']\n"
     ]
    },
    {
     "name": "stderr",
     "output_type": "stream",
     "text": [
      " 83%|████████▎ | 140/169 [22:14<04:33,  9.45s/it]"
     ]
    },
    {
     "name": "stdout",
     "output_type": "stream",
     "text": [
      "['0', '1', '1', '0', '1', '1', '1', '1', '1', '0', '1', '1', '0', '1']\n"
     ]
    },
    {
     "name": "stderr",
     "output_type": "stream",
     "text": [
      " 83%|████████▎ | 141/169 [22:26<04:44, 10.16s/it]"
     ]
    },
    {
     "name": "stdout",
     "output_type": "stream",
     "text": [
      "['1', '1', '1', '1', '1', '1', '1', '1', '1', '1', '0', '0', '1', '0']\n"
     ]
    },
    {
     "name": "stderr",
     "output_type": "stream",
     "text": [
      " 84%|████████▍ | 142/169 [22:35<04:23,  9.77s/it]"
     ]
    },
    {
     "name": "stdout",
     "output_type": "stream",
     "text": [
      "['0', '0', '1', '1', '1', '1', '1', '1', '1', '1', '1', '0', '1', '1']\n"
     ]
    },
    {
     "name": "stderr",
     "output_type": "stream",
     "text": [
      " 85%|████████▍ | 143/169 [22:43<04:03,  9.38s/it]"
     ]
    },
    {
     "name": "stdout",
     "output_type": "stream",
     "text": [
      "['0', '0', '1', '1', '0', '0', '0', '0', '1', '1', '0', '1', '0', '0']\n"
     ]
    },
    {
     "name": "stderr",
     "output_type": "stream",
     "text": [
      " 85%|████████▌ | 144/169 [22:52<03:51,  9.27s/it]"
     ]
    },
    {
     "name": "stdout",
     "output_type": "stream",
     "text": [
      "['1', '1', '0', '1', '0', '0', '0', '0', '1', '0', '0', '1', '1', '1']\n"
     ]
    },
    {
     "name": "stderr",
     "output_type": "stream",
     "text": [
      " 86%|████████▌ | 145/169 [23:04<04:00, 10.01s/it]"
     ]
    },
    {
     "name": "stdout",
     "output_type": "stream",
     "text": [
      "['1', '1', '1', '1', '0', '0', '1', '0', '1', '1', '0', '0', '1', '1']\n"
     ]
    },
    {
     "name": "stderr",
     "output_type": "stream",
     "text": [
      " 86%|████████▋ | 146/169 [23:13<03:46,  9.83s/it]"
     ]
    },
    {
     "name": "stdout",
     "output_type": "stream",
     "text": [
      "['1', '0', '1', '1', '1', '0', '0', '1', '1', '1', '1', '1', '1', '1']\n"
     ]
    },
    {
     "name": "stderr",
     "output_type": "stream",
     "text": [
      " 87%|████████▋ | 147/169 [23:26<03:54, 10.65s/it]"
     ]
    },
    {
     "name": "stdout",
     "output_type": "stream",
     "text": [
      "['0', '0', '0', '0', '0', '0', '0', '1', '0', '0', '0', '0', '0', '0']\n"
     ]
    },
    {
     "name": "stderr",
     "output_type": "stream",
     "text": [
      " 88%|████████▊ | 148/169 [23:33<03:20,  9.53s/it]"
     ]
    },
    {
     "name": "stdout",
     "output_type": "stream",
     "text": [
      "['1', '1', '1', '1', '1', '1', '1', '1', '1', '1', '1', '1', '1', '1']\n"
     ]
    },
    {
     "name": "stderr",
     "output_type": "stream",
     "text": [
      " 88%|████████▊ | 149/169 [23:40<02:55,  8.76s/it]"
     ]
    },
    {
     "name": "stdout",
     "output_type": "stream",
     "text": [
      "['1', '1', '1', '1', '1', '0', '1', '1', '1', '1', '0', '0', '1', '1']\n"
     ]
    },
    {
     "name": "stderr",
     "output_type": "stream",
     "text": [
      " 89%|████████▉ | 150/169 [23:50<02:57,  9.36s/it]"
     ]
    },
    {
     "name": "stdout",
     "output_type": "stream",
     "text": [
      "['0', '1', '1', '0', '0', '0', '0', '1', '0', '1', '1', '1', '0', '1']\n"
     ]
    },
    {
     "name": "stderr",
     "output_type": "stream",
     "text": [
      " 89%|████████▉ | 151/169 [24:04<03:10, 10.56s/it]"
     ]
    },
    {
     "name": "stdout",
     "output_type": "stream",
     "text": [
      "['1', '0', '1', '1', '1', '0', '1', '0', '1', '1', '1', '1', '1', '0']\n"
     ]
    },
    {
     "name": "stderr",
     "output_type": "stream",
     "text": [
      " 90%|████████▉ | 152/169 [24:14<02:58, 10.49s/it]"
     ]
    },
    {
     "name": "stdout",
     "output_type": "stream",
     "text": [
      "['1', '1', '1', '1', '1', '1', '0', '0', '1', '1', '1', '1', '1', '0']\n"
     ]
    },
    {
     "name": "stderr",
     "output_type": "stream",
     "text": [
      " 91%|█████████ | 153/169 [24:24<02:46, 10.39s/it]"
     ]
    },
    {
     "name": "stdout",
     "output_type": "stream",
     "text": [
      "['1', '0', '0', '1', '0', '1', '0', '0', '0', '1', '0', '1', '1', '1']\n"
     ]
    },
    {
     "name": "stderr",
     "output_type": "stream",
     "text": [
      " 91%|█████████ | 154/169 [24:34<02:30, 10.06s/it]"
     ]
    },
    {
     "name": "stdout",
     "output_type": "stream",
     "text": [
      "['1', '1', '1', '1', '1', '1', '0', '0', '1', '1', '0', '1', '1', '1']\n"
     ]
    },
    {
     "name": "stderr",
     "output_type": "stream",
     "text": [
      " 92%|█████████▏| 155/169 [24:44<02:24, 10.29s/it]"
     ]
    },
    {
     "name": "stdout",
     "output_type": "stream",
     "text": [
      "['0', '1', '1', '1', '0', '1', '1', '0', '0', '1', '0', '1', '1', '0']\n"
     ]
    },
    {
     "name": "stderr",
     "output_type": "stream",
     "text": [
      " 92%|█████████▏| 156/169 [24:54<02:11, 10.12s/it]"
     ]
    },
    {
     "name": "stdout",
     "output_type": "stream",
     "text": [
      "['1', '0', '0', '1', '1', '1', '0', '1', '1', '1', '1', '1', '1', '1']\n"
     ]
    },
    {
     "name": "stderr",
     "output_type": "stream",
     "text": [
      " 93%|█████████▎| 157/169 [25:09<02:18, 11.56s/it]"
     ]
    },
    {
     "name": "stdout",
     "output_type": "stream",
     "text": [
      "['1', '1', '1', '1', '1', '1', '1', '0', '1', '0', '1', '1', '1', '1']\n"
     ]
    },
    {
     "name": "stderr",
     "output_type": "stream",
     "text": [
      " 93%|█████████▎| 158/169 [25:24<02:16, 12.44s/it]"
     ]
    },
    {
     "name": "stdout",
     "output_type": "stream",
     "text": [
      "['1', '1', '0', '1', '1', '1', '1', '1', '0', '1', '1', '1', '0', '0']\n"
     ]
    },
    {
     "name": "stderr",
     "output_type": "stream",
     "text": [
      " 94%|█████████▍| 159/169 [25:30<01:47, 10.79s/it]"
     ]
    },
    {
     "name": "stdout",
     "output_type": "stream",
     "text": [
      "['1', '0', '1', '1', '1', '1', '1', '1', '1', '1', '1', '1', '1', '1']\n"
     ]
    },
    {
     "name": "stderr",
     "output_type": "stream",
     "text": [
      " 95%|█████████▍| 160/169 [25:39<01:31, 10.14s/it]"
     ]
    },
    {
     "name": "stdout",
     "output_type": "stream",
     "text": [
      "['0', '0', '0', '1', '0', '0', '1', '0', '1', '0', '0', '0', '0', '0']\n"
     ]
    },
    {
     "name": "stderr",
     "output_type": "stream",
     "text": [
      " 95%|█████████▌| 161/169 [25:53<01:30, 11.36s/it]"
     ]
    },
    {
     "name": "stdout",
     "output_type": "stream",
     "text": [
      "['1', '0', '1', '1', '1', '0', '0', '1', '1', '1', '1', '0', '1', '1']\n"
     ]
    },
    {
     "name": "stderr",
     "output_type": "stream",
     "text": [
      " 96%|█████████▌| 162/169 [26:09<01:27, 12.54s/it]"
     ]
    },
    {
     "name": "stdout",
     "output_type": "stream",
     "text": [
      "['0', '1', '1', '1', '1', '1', '1', '0', '1', '1', '1', '1', '1', '1']\n"
     ]
    },
    {
     "name": "stderr",
     "output_type": "stream",
     "text": [
      " 96%|█████████▋| 163/169 [26:19<01:11, 11.86s/it]"
     ]
    },
    {
     "name": "stdout",
     "output_type": "stream",
     "text": [
      "['1', '1', '1', '1', '0', '1', '1', '1', '1', '1', '0', '1', '1', '1']\n"
     ]
    },
    {
     "name": "stderr",
     "output_type": "stream",
     "text": [
      " 97%|█████████▋| 164/169 [26:30<00:58, 11.64s/it]"
     ]
    },
    {
     "name": "stdout",
     "output_type": "stream",
     "text": [
      "['1', '1', '1', '1', '1', '1', '1', '1', '1', '1', '1', '1', '1', '1']\n"
     ]
    },
    {
     "name": "stderr",
     "output_type": "stream",
     "text": [
      " 98%|█████████▊| 165/169 [26:36<00:40, 10.05s/it]"
     ]
    },
    {
     "name": "stdout",
     "output_type": "stream",
     "text": [
      "['0', '1', '0', '1', '1', '1', '0', '0', '1', '1', '1', '1', '1', '1']\n"
     ]
    },
    {
     "name": "stderr",
     "output_type": "stream",
     "text": [
      " 98%|█████████▊| 166/169 [26:43<00:26,  8.97s/it]"
     ]
    },
    {
     "name": "stdout",
     "output_type": "stream",
     "text": [
      "['1', '1', '1', '1', '1', '1', '0', '1', '1', '1', '1', '1', '1', '1']\n"
     ]
    },
    {
     "name": "stderr",
     "output_type": "stream",
     "text": [
      " 99%|█████████▉| 167/169 [26:50<00:17,  8.55s/it]"
     ]
    },
    {
     "name": "stdout",
     "output_type": "stream",
     "text": [
      "['0', '0', '0', '1', '1', '1', '1', '1', '1', '0', '0', '1', '0', '0']\n"
     ]
    },
    {
     "name": "stderr",
     "output_type": "stream",
     "text": [
      " 99%|█████████▉| 168/169 [26:59<00:08,  8.49s/it]"
     ]
    },
    {
     "name": "stdout",
     "output_type": "stream",
     "text": [
      "['1', '1', '1', '1', '1', '1', '1', '0', '1', '1', '1', '1', '1', '1']\n"
     ]
    },
    {
     "name": "stderr",
     "output_type": "stream",
     "text": [
      "100%|██████████| 169/169 [27:10<00:00,  9.65s/it]"
     ]
    },
    {
     "name": "stdout",
     "output_type": "stream",
     "text": [
      "['1', '0', '1', '1', '1', '1', '1', '1', '0', '1', '0', '1', '1', '1']\n"
     ]
    },
    {
     "name": "stderr",
     "output_type": "stream",
     "text": [
      "\n"
     ]
    }
   ],
   "source": [
    "responses = []\n",
    "\n",
    "for t in tqdm(paragraphs_df['text']):\n",
    "    response_iteration = []\n",
    "    for _ in range(14):\n",
    "        response = ollama.generate(model='mistral-SCS', prompt=t, options={'num_predict':1})['response']\n",
    "        response_iteration.append(response)\n",
    "    print(response_iteration)\n",
    "    \n",
    "    responses.append(response_iteration)"
   ]
  },
  {
   "cell_type": "code",
   "execution_count": 8,
   "metadata": {},
   "outputs": [
    {
     "data": {
      "text/plain": [
       "[['1', '1', '1', '1', '1', '1', '1', '1', '1', '1', '1', '1', '1', '1'],\n",
       " ['1', '0', '1', '1', '1', '0', '1', '1', '1', '1', '0', '0', '1', '1'],\n",
       " ['1', '1', '1', '1', '1', '0', '1', '1', '1', '1', '1', '1', '1', '1'],\n",
       " ['0', '1', '0', '0', '0', '0', '0', '1', '1', '1', '0', '1', '1', '1'],\n",
       " ['You', '1', '0', '1', '0', '0', '1', '1', 'It', '1', '0', '1', '1', '0'],\n",
       " ['1', '0', '0', '0', '0', '0', '1', '0', '0', '0', '0', '0', '0', '0'],\n",
       " ['0', '1', '0', '1', '0', '0', '1', '0', '0', '0', '1', '0', '1', '1'],\n",
       " ['1', '1', '1', '1', '1', '1', '1', '0', '1', '1', '1', '0', '0', '1'],\n",
       " ['0', '0', '0', '0', '1', '1', '1', '0', '0', '0', '0', '1', '0', '0'],\n",
       " ['1', '1', '0', '0', '0', '0', '0', '0', '0', '0', '0', '0', '0', '0'],\n",
       " ['0', '1', '0', '1', '0', '0', '0', '0', '0', '1', '1', '1', '0', 'You'],\n",
       " ['1', '1', '0', '0', '0', '1', '0', '0', '0', '0', '0', '0', '0', '0'],\n",
       " ['0', '0', '0', '0', '0', '0', '0', '0', '0', '0', '0', '0', '1', '0'],\n",
       " ['0', '1', '0', '1', '0', '0', '1', '1', '1', '1', '1', '1', '1', '1'],\n",
       " ['1', '0', '0', '0', '1', '1', '1', '1', '1', '1', '1', '0', '1', '1'],\n",
       " ['1', '1', '0', '0', '1', '0', '0', '0', 'I', '0', '0', '1', '0', '0'],\n",
       " ['1', '1', '1', '1', '0', '0', '1', '0', '1', '0', '0', '1', '0', '0'],\n",
       " ['1', '1', '1', '1', '1', '1', '0', '1', '1', '0', '1', '1', '1', '1'],\n",
       " ['1', '1', '0', '0', '0', '1', '1', '1', '1', '1', '1', 'You', '1', '0'],\n",
       " ['1', '1', '0', '1', '1', '1', '1', '0', '0', '1', '1', '1', '1', '1'],\n",
       " ['1', '1', '1', '1', '1', '1', '0', '1', '1', '1', '1', '1', '1', '0'],\n",
       " ['0', '1', '1', '1', '0', '1', '0', '1', '1', '0', '0', '1', '0', '0'],\n",
       " ['0', '0', '0', '0', '0', '1', '1', '1', '1', '0', '0', '0', '1', '0'],\n",
       " ['0', '0', '1', '0', '1', '1', '0', '1', '1', '1', '0', '0', '1', '1'],\n",
       " ['0', '0', '1', '0', '0', '1', '1', '1', '1', '1', '1', '1', '1', '0'],\n",
       " ['0',\n",
       "  'If',\n",
       "  '0',\n",
       "  '0',\n",
       "  'Par',\n",
       "  'I',\n",
       "  'I',\n",
       "  'I',\n",
       "  'Here',\n",
       "  'I',\n",
       "  'If',\n",
       "  '0',\n",
       "  'I',\n",
       "  'She'],\n",
       " ['1', '1', '1', '0', '1', '0', '1', '1', '1', '1', '1', '1', '1', '1'],\n",
       " ['1', '1', '1', '1', '0', '1', '1', '1', '1', '0', '1', '0', '1', '1'],\n",
       " ['1', '1', '1', '1', '1', '0', '1', '1', '1', '1', '1', '1', '1', '1'],\n",
       " ['1', '1', '1', '1', '1', '0', '1', '1', '1', '1', '1', '1', '1', '1'],\n",
       " ['1', '1', '1', '1', '1', '1', '1', '1', '1', '1', '1', '1', '0', '1'],\n",
       " ['0', '0', '0', '0', '0', '0', '0', '0', '0', '0', '0', '0', '0', '0'],\n",
       " ['1', '1', '1', '1', '0', '1', '1', '0', '0', '0', '1', '1', '0', '0'],\n",
       " ['0', '1', '1', '0', '1', '1', '1', '1', '1', '1', '0', '0', '1', '1'],\n",
       " ['It', '1', '1', '0', '1', '1', '0', '1', '1', 'I', '1', '0', '1', '1'],\n",
       " ['0', '0', '1', '0', '0', '1', '1', '1', '0', '1', '0', '1', '0', '0'],\n",
       " ['1', '0', '1', '1', '1', '1', '0', '0', '1', '0', '0', '1', '1', '0'],\n",
       " ['0', '0', '0', '1', '0', '1', '0', '0', '1', '0', 'You', '1', '0', '0'],\n",
       " ['0', '0', '1', '1', '0', '0', '1', '1', '0', '1', '1', '0', '0', '0'],\n",
       " ['1', '1', '1', '1', '1', '1', '1', '0', '1', '1', '1', '1', '1', '1'],\n",
       " ['0', '0', '0', '0', '1', '0', '1', '1', '0', '1', '1', '1', '1', '1'],\n",
       " ['1', '0', '1', '1', '0', '1', '1', '1', '0', '1', '1', '1', '0', '0'],\n",
       " ['1', '0', '1', '0', '1', '0', '0', '1', '1', '1', '1', '1', '1', '1'],\n",
       " ['I', '0', '0', '0', '1', 'I', '0', 'I', '\\n', '1', 'I', 'I', 'You', '1'],\n",
       " ['It', 'I', 'I', '\\n', 'I', 'I', 'I', 'I', '\\n', 'It', 'I', 'I', '\\n', 'I'],\n",
       " ['The',\n",
       "  '\\n',\n",
       "  'The',\n",
       "  'I',\n",
       "  'I',\n",
       "  'The',\n",
       "  'The',\n",
       "  'In',\n",
       "  '0',\n",
       "  'The',\n",
       "  'I',\n",
       "  '\\n',\n",
       "  'I',\n",
       "  '0'],\n",
       " ['The',\n",
       "  'The',\n",
       "  'I',\n",
       "  'The',\n",
       "  'The',\n",
       "  'The',\n",
       "  'The',\n",
       "  'The',\n",
       "  'The',\n",
       "  'I',\n",
       "  'I',\n",
       "  'The',\n",
       "  'The',\n",
       "  'The'],\n",
       " ['0', '0', '0', '1', '0', '0', '1', '1', '\\n', '0', '0', '0', '1', '0'],\n",
       " ['1', '1', '0', '1', '1', '0', '0', '0', '1', '1', '1', '1', '0', '0'],\n",
       " ['1', '0', '0', '0', '0', '1', '1', '0', '1', '1', '0', '0', '0', '1'],\n",
       " ['1', '0', '1', '1', '1', '1', '1', '1', '1', '1', '1', '1', '1', '1'],\n",
       " ['0', '1', '1', '1', '1', '1', '1', '0', '1', '0', '1', '1', '1', '1'],\n",
       " ['1', '1', '1', '0', '1', '0', '1', '0', '1', '0', '0', '1', '1', '1'],\n",
       " ['0', '1', '1', '1', '1', '1', '1', '1', '1', '0', '1', '1', '1', '1'],\n",
       " ['1', '1', '1', '1', '1', '1', '1', '1', '1', '1', '1', '1', '1', '1'],\n",
       " ['1', '1', '1', '1', '1', '1', '1', '1', '1', '1', '1', '1', '1', '1'],\n",
       " ['1', '0', '0', '0', '0', '0', '0', '0', '0', '0', '0', '0', '0', '0'],\n",
       " ['You', 'Par', '0', '1', 'I', '1', '1', 'The', 'I', '1', 'I', 'I', 'I', '1'],\n",
       " ['1', '1', '1', '1', '0', '1', '1', '0', '0', '1', '0', '0', '1', '1'],\n",
       " ['1', '1', '0', '0', '0', '0', '1', '1', '0', '1', '1', '0', '1', '1'],\n",
       " ['1', '1', '1', '1', '1', '1', '1', '1', '1', '1', '1', '1', '1', '1'],\n",
       " ['0', '1', '1', '1', '1', '1', '1', '1', '1', '1', '1', '0', '0', '1'],\n",
       " ['1', '0', '0', '1', '1', '0', '1', '0', '1', '0', '1', '0', '0', '1'],\n",
       " ['1', '0', '0', '0', '1', '1', '0', '1', '0', '0', '1', '1', '1', '1'],\n",
       " ['1', '1', '0', '1', 'You', '1', '0', '1', '0', '1', '1', '1', '0', '0'],\n",
       " ['1', '1', '1', '1', '0', '1', '1', '0', '1', '1', '1', '1', '1', '1'],\n",
       " ['1', '1', '1', '1', 'You', '1', '1', '1', '1', '1', '1', '1', '1', '1'],\n",
       " ['1', '1', '0', '1', '1', '0', '1', '1', '0', '0', '1', '1', '0', '1'],\n",
       " ['0', '0', '0', '1', '0', '0', '0', '0', '0', '0', '0', '0', '0', '0'],\n",
       " ['1', '1', '1', '1', '1', '1', '1', '0', '1', '1', '1', '1', '0', '1'],\n",
       " ['0', '1', '1', '1', '1', '1', '1', '1', '1', '0', '1', '0', '1', '0'],\n",
       " ['1', '1', '1', '1', '1', '1', '1', '1', '0', '1', '1', '1', '1', '1'],\n",
       " ['0', '0', '0', '1', '1', '0', '1', '0', 'I', '0', '1', '0', '1', '0'],\n",
       " ['1', '1', '1', '1', '0', '1', '1', '1', '1', '1', '1', '1', '0', '1'],\n",
       " ['1', '0', '1', '0', '0', '0', '0', '1', '0', '0', '1', '0', '1', '0'],\n",
       " ['0', '0', '1', '0', '1', '0', 'Here', '1', '1', '1', '1', '0', '0', '1'],\n",
       " ['1', '1', '0', '0', '1', '0', '1', '1', '1', '1', '1', '1', '1', '0'],\n",
       " ['1', '1', '1', '1', '1', '1', '1', '1', '1', '1', '0', '0', '0', '1'],\n",
       " ['1', '1', '0', '0', '1', 'I', '1', '0', '0', '1', '0', '0', '0', '1'],\n",
       " ['1', '1', '1', '1', '0', '0', '0', '0', '1', '1', '1', '1', '1', '1'],\n",
       " ['1', '1', '0', '0', '1', '1', '1', '1', '1', '1', '1', '1', '1', '1'],\n",
       " ['0', '0', '0', '1', '1', '0', '0', '1', '1', '1', '1', '0', '1', '1'],\n",
       " ['1', '0', '1', '1', '1', '0', '0', '0', '1', '0', '1', '1', '0', '0'],\n",
       " ['0', '0', '1', '1', '1', '1', '1', '1', '0', '1', '0', '1', '0', '1'],\n",
       " ['1', '0', '0', '1', '1', '1', '0', '1', '0', '1', '1', '0', '1', '0'],\n",
       " ['1', '1', '1', '1', '1', '1', '1', '1', '1', '1', '0', '1', '1', '1'],\n",
       " ['1', '1', '0', '1', '0', '1', '0', '1', '1', '1', '0', '0', '0', '0'],\n",
       " ['Par',\n",
       "  'Par',\n",
       "  'I',\n",
       "  'You',\n",
       "  'You',\n",
       "  '\\n',\n",
       "  '\\n',\n",
       "  '\\n',\n",
       "  'You',\n",
       "  'You',\n",
       "  '\\n',\n",
       "  'You',\n",
       "  'The',\n",
       "  'You'],\n",
       " ['1', '0', '1', '0', '1', '1', '0', '0', '1', '1', '0', '0', 'You', '1'],\n",
       " ['1', '0', '1', '0', '1', '0', '1', '0', '0', '1', '0', '1', '0', '1'],\n",
       " ['0', '1', '1', '1', '0', '1', '1', '1', '1', '0', '0', '1', '0', '0'],\n",
       " ['1', '1', '1', '1', '1', '1', '0', '0', '1', '1', '1', '1', '1', '1'],\n",
       " ['1', '1', '1', '1', '0', '1', '1', '0', '1', '1', '1', '0', '1', '1'],\n",
       " ['1', '1', 'The', '1', '1', '1', '1', '1', '1', '1', '1', '1', '0', '0'],\n",
       " ['0', '0', '1', '1', '1', '1', '0', '0', '0', '0', '1', '1', '0', '1'],\n",
       " ['0', '1', '1', '0', '0', '1', '1', '1', '1', '1', '1', '0', '1', '1'],\n",
       " ['1', '1', '1', '0', '1', 'P', '1', '1', '1', '1', '1', '1', '1', 'P'],\n",
       " ['0', '1', '0', '1', '1', '0', '1', '0', '1', '0', '0', '0', '0', '0'],\n",
       " ['1', '1', '0', '0', '1', '1', '1', '1', '1', '1', '1', '1', '1', '0'],\n",
       " ['1', '0', '1', '1', '1', '0', '0', '0', '0', '1', '0', '1', '0', '1'],\n",
       " ['1', '1', '0', '0', '1', '1', '1', '0', 'Based', '0', '0', '0', '0', '0'],\n",
       " ['1', '1', '1', '0', '1', '1', '0', '0', '1', '1', '1', '1', '0', '1'],\n",
       " ['I',\n",
       "  'Par',\n",
       "  'I',\n",
       "  'I',\n",
       "  'I',\n",
       "  'Please',\n",
       "  'Par',\n",
       "  'I',\n",
       "  'Par',\n",
       "  'Par',\n",
       "  'Par',\n",
       "  'Par',\n",
       "  'You',\n",
       "  'I'],\n",
       " ['I',\n",
       "  'It',\n",
       "  'Par',\n",
       "  'I',\n",
       "  '1',\n",
       "  'I',\n",
       "  'Par',\n",
       "  'Par',\n",
       "  'I',\n",
       "  'I',\n",
       "  'I',\n",
       "  'I',\n",
       "  'I',\n",
       "  'Par'],\n",
       " ['0', '0', '0', '0', '0', '0', '0', '1', '0', '0', '0', '0', '0', '0'],\n",
       " ['0', '0', '0', '0', '0', '0', '1', '0', '0', '0', '1', '0', '0', 'It'],\n",
       " ['1', '1', '1', '1', '1', '1', '1', '1', '1', '1', '1', '1', '0', '1'],\n",
       " ['1', '0', '1', '1', '1', '1', '1', '1', '1', '1', '1', '0', '1', '0'],\n",
       " ['0', '0', '0', '1', '1', '1', '0', '1', '1', '1', '1', '1', '1', '1'],\n",
       " ['1', '1', '1', '1', '0', '0', '1', '1', '1', '0', '1', '1', '0', '1'],\n",
       " ['0', '0', '1', '0', '1', '0', '1', '1', '1', '0', '1', '0', '1', '1'],\n",
       " ['0', '1', '0', '0', '1', '1', '1', '1', '1', '1', '0', '1', '0', '0'],\n",
       " ['1', '0', '1', '1', '1', '0', '1', '1', '0', '1', '1', '1', '1', '1'],\n",
       " ['1', '1', '0', '0', '1', '0', '1', '1', '0', '1', '1', '1', '1', '0'],\n",
       " ['0', '1', '0', '1', '0', '1', '1', '0', '0', '0', '0', '1', '0', '0'],\n",
       " ['0', '1', '0', '0', '1', '1', '1', '1', '0', '0', '0', '1', '1', '1'],\n",
       " ['1', '1', '1', '0', '1', '0', '0', '0', '1', '0', '1', '0', '1', '0'],\n",
       " ['1', 'The', '0', 'Un', '0', '1', '0', '1', '0', '1', '1', '1', 'Un', '1'],\n",
       " ['1', '0', '1', '1', '1', '1', 'Te', '1', '1', '1', '\\n', '1', '1', '1'],\n",
       " ['0', '0', '0', '0', '1', '1', '1', '0', 'If', '0', '1', '0', '0', '0'],\n",
       " ['1', '0', '0', '1', '1', '1', '0', '1', '1', '1', '1', '1', '0', '1'],\n",
       " ['0', '0', '0', '0', '1', '0', '0', '0', '0', '0', '0', '0', '1', '1'],\n",
       " ['0', '0', '1', '0', '0', '0', '1', '0', '0', '0', '0', '0', '0', '1'],\n",
       " ['0', '0', '1', '1', '1', '1', '0', '0', '1', '0', '1', '0', '1', '1'],\n",
       " ['0', '1', '1', '1', '1', '1', '1', 'It', '1', '1', '0', '1', '1', '1'],\n",
       " ['1', '1', '1', '0', '0', '1', '1', '1', '0', '1', '0', '1', '1', '1'],\n",
       " ['1', '1', '1', '0', '0', '1', '0', '1', '0', '1', '1', '1', '0', '1'],\n",
       " ['0', '1', 'I', 'I', '1', '0', 'You', 'I', 'This', 'I', 'I', 'I', '1', '0'],\n",
       " ['0', '1', '1', '1', '1', '0', '1', '1', '0', '1', '1', '0', '1', '0'],\n",
       " ['1', '1', '1', '1', '1', '1', '1', '1', '0', '1', '1', '1', '0', '1'],\n",
       " ['1', '0', '0', '1', '0', '0', '1', '0', '0', '0', '1', '0', '0', '1'],\n",
       " ['1', '0', '1', '1', '1', '1', '1', '1', '1', '1', '1', '1', '1', '0'],\n",
       " ['0', '0', '1', '1', '0', '1', '1', '1', '1', '1', '0', '1', '1', '1'],\n",
       " ['1', '1', '0', '1', '1', '0', '0', '0', '1', '1', '0', '0', '1', '0'],\n",
       " ['1', '0', '1', '1', '0', '1', '1', '0', '1', '0', '1', '1', '0', '1'],\n",
       " ['0', '1', '0', '0', '1', '1', '0', '1', '1', '0', '1', '0', '1', '1'],\n",
       " ['1', '1', '0', '0', '0', '1', '0', '1', '0', '0', '0', '0', '1', '0'],\n",
       " ['1', '1', '1', '0', '0', '1', '1', '0', '1', '0', '1', '0', '1', '0'],\n",
       " ['0', '0', '0', '0', '0', '0', '1', '0', '0', '1', '0', '0', '0', '1'],\n",
       " ['0', '1', '1', '0', '1', '1', '1', '1', '1', '0', '1', '1', '0', '1'],\n",
       " ['1', '1', '1', '1', '1', '1', '1', '1', '1', '1', '0', '0', '1', '0'],\n",
       " ['0', '0', '1', '1', '1', '1', '1', '1', '1', '1', '1', '0', '1', '1'],\n",
       " ['0', '0', '1', '1', '0', '0', '0', '0', '1', '1', '0', '1', '0', '0'],\n",
       " ['1', '1', '0', '1', '0', '0', '0', '0', '1', '0', '0', '1', '1', '1'],\n",
       " ['1', '1', '1', '1', '0', '0', '1', '0', '1', '1', '0', '0', '1', '1'],\n",
       " ['1', '0', '1', '1', '1', '0', '0', '1', '1', '1', '1', '1', '1', '1'],\n",
       " ['0', '0', '0', '0', '0', '0', '0', '1', '0', '0', '0', '0', '0', '0'],\n",
       " ['1', '1', '1', '1', '1', '1', '1', '1', '1', '1', '1', '1', '1', '1'],\n",
       " ['1', '1', '1', '1', '1', '0', '1', '1', '1', '1', '0', '0', '1', '1'],\n",
       " ['0', '1', '1', '0', '0', '0', '0', '1', '0', '1', '1', '1', '0', '1'],\n",
       " ['1', '0', '1', '1', '1', '0', '1', '0', '1', '1', '1', '1', '1', '0'],\n",
       " ['1', '1', '1', '1', '1', '1', '0', '0', '1', '1', '1', '1', '1', '0'],\n",
       " ['1', '0', '0', '1', '0', '1', '0', '0', '0', '1', '0', '1', '1', '1'],\n",
       " ['1', '1', '1', '1', '1', '1', '0', '0', '1', '1', '0', '1', '1', '1'],\n",
       " ['0', '1', '1', '1', '0', '1', '1', '0', '0', '1', '0', '1', '1', '0'],\n",
       " ['1', '0', '0', '1', '1', '1', '0', '1', '1', '1', '1', '1', '1', '1'],\n",
       " ['1', '1', '1', '1', '1', '1', '1', '0', '1', '0', '1', '1', '1', '1'],\n",
       " ['1', '1', '0', '1', '1', '1', '1', '1', '0', '1', '1', '1', '0', '0'],\n",
       " ['1', '0', '1', '1', '1', '1', '1', '1', '1', '1', '1', '1', '1', '1'],\n",
       " ['0', '0', '0', '1', '0', '0', '1', '0', '1', '0', '0', '0', '0', '0'],\n",
       " ['1', '0', '1', '1', '1', '0', '0', '1', '1', '1', '1', '0', '1', '1'],\n",
       " ['0', '1', '1', '1', '1', '1', '1', '0', '1', '1', '1', '1', '1', '1'],\n",
       " ['1', '1', '1', '1', '0', '1', '1', '1', '1', '1', '0', '1', '1', '1'],\n",
       " ['1', '1', '1', '1', '1', '1', '1', '1', '1', '1', '1', '1', '1', '1'],\n",
       " ['0', '1', '0', '1', '1', '1', '0', '0', '1', '1', '1', '1', '1', '1'],\n",
       " ['1', '1', '1', '1', '1', '1', '0', '1', '1', '1', '1', '1', '1', '1'],\n",
       " ['0', '0', '0', '1', '1', '1', '1', '1', '1', '0', '0', '1', '0', '0'],\n",
       " ['1', '1', '1', '1', '1', '1', '1', '0', '1', '1', '1', '1', '1', '1'],\n",
       " ['1', '0', '1', '1', '1', '1', '1', '1', '0', '1', '0', '1', '1', '1']]"
      ]
     },
     "execution_count": 8,
     "metadata": {},
     "output_type": "execute_result"
    }
   ],
   "source": [
    "responses"
   ]
  },
  {
   "cell_type": "code",
   "execution_count": 9,
   "metadata": {},
   "outputs": [
    {
     "data": {
      "text/plain": [
       "[[1, 1, 1, 1, 1, 1, 1, 1, 1, 1, 1, 1, 1, 1],\n",
       " [1, 0, 1, 1, 1, 0, 1, 1, 1, 1, 0, 0, 1, 1],\n",
       " [1, 1, 1, 1, 1, 0, 1, 1, 1, 1, 1, 1, 1, 1],\n",
       " [0, 1, 0, 0, 0, 0, 0, 1, 1, 1, 0, 1, 1, 1],\n",
       " [-1, 1, 0, 1, 0, 0, 1, 1, -1, 1, 0, 1, 1, 0],\n",
       " [1, 0, 0, 0, 0, 0, 1, 0, 0, 0, 0, 0, 0, 0],\n",
       " [0, 1, 0, 1, 0, 0, 1, 0, 0, 0, 1, 0, 1, 1],\n",
       " [1, 1, 1, 1, 1, 1, 1, 0, 1, 1, 1, 0, 0, 1],\n",
       " [0, 0, 0, 0, 1, 1, 1, 0, 0, 0, 0, 1, 0, 0],\n",
       " [1, 1, 0, 0, 0, 0, 0, 0, 0, 0, 0, 0, 0, 0],\n",
       " [0, 1, 0, 1, 0, 0, 0, 0, 0, 1, 1, 1, 0, -1],\n",
       " [1, 1, 0, 0, 0, 1, 0, 0, 0, 0, 0, 0, 0, 0],\n",
       " [0, 0, 0, 0, 0, 0, 0, 0, 0, 0, 0, 0, 1, 0],\n",
       " [0, 1, 0, 1, 0, 0, 1, 1, 1, 1, 1, 1, 1, 1],\n",
       " [1, 0, 0, 0, 1, 1, 1, 1, 1, 1, 1, 0, 1, 1],\n",
       " [1, 1, 0, 0, 1, 0, 0, 0, -1, 0, 0, 1, 0, 0],\n",
       " [1, 1, 1, 1, 0, 0, 1, 0, 1, 0, 0, 1, 0, 0],\n",
       " [1, 1, 1, 1, 1, 1, 0, 1, 1, 0, 1, 1, 1, 1],\n",
       " [1, 1, 0, 0, 0, 1, 1, 1, 1, 1, 1, -1, 1, 0],\n",
       " [1, 1, 0, 1, 1, 1, 1, 0, 0, 1, 1, 1, 1, 1],\n",
       " [1, 1, 1, 1, 1, 1, 0, 1, 1, 1, 1, 1, 1, 0],\n",
       " [0, 1, 1, 1, 0, 1, 0, 1, 1, 0, 0, 1, 0, 0],\n",
       " [0, 0, 0, 0, 0, 1, 1, 1, 1, 0, 0, 0, 1, 0],\n",
       " [0, 0, 1, 0, 1, 1, 0, 1, 1, 1, 0, 0, 1, 1],\n",
       " [0, 0, 1, 0, 0, 1, 1, 1, 1, 1, 1, 1, 1, 0],\n",
       " [0, -1, 0, 0, -1, -1, -1, -1, -1, -1, -1, 0, -1, -1],\n",
       " [1, 1, 1, 0, 1, 0, 1, 1, 1, 1, 1, 1, 1, 1],\n",
       " [1, 1, 1, 1, 0, 1, 1, 1, 1, 0, 1, 0, 1, 1],\n",
       " [1, 1, 1, 1, 1, 0, 1, 1, 1, 1, 1, 1, 1, 1],\n",
       " [1, 1, 1, 1, 1, 0, 1, 1, 1, 1, 1, 1, 1, 1],\n",
       " [1, 1, 1, 1, 1, 1, 1, 1, 1, 1, 1, 1, 0, 1],\n",
       " [0, 0, 0, 0, 0, 0, 0, 0, 0, 0, 0, 0, 0, 0],\n",
       " [1, 1, 1, 1, 0, 1, 1, 0, 0, 0, 1, 1, 0, 0],\n",
       " [0, 1, 1, 0, 1, 1, 1, 1, 1, 1, 0, 0, 1, 1],\n",
       " [-1, 1, 1, 0, 1, 1, 0, 1, 1, -1, 1, 0, 1, 1],\n",
       " [0, 0, 1, 0, 0, 1, 1, 1, 0, 1, 0, 1, 0, 0],\n",
       " [1, 0, 1, 1, 1, 1, 0, 0, 1, 0, 0, 1, 1, 0],\n",
       " [0, 0, 0, 1, 0, 1, 0, 0, 1, 0, -1, 1, 0, 0],\n",
       " [0, 0, 1, 1, 0, 0, 1, 1, 0, 1, 1, 0, 0, 0],\n",
       " [1, 1, 1, 1, 1, 1, 1, 0, 1, 1, 1, 1, 1, 1],\n",
       " [0, 0, 0, 0, 1, 0, 1, 1, 0, 1, 1, 1, 1, 1],\n",
       " [1, 0, 1, 1, 0, 1, 1, 1, 0, 1, 1, 1, 0, 0],\n",
       " [1, 0, 1, 0, 1, 0, 0, 1, 1, 1, 1, 1, 1, 1],\n",
       " [-1, 0, 0, 0, 1, -1, 0, -1, -1, 1, -1, -1, -1, 1],\n",
       " [-1, -1, -1, -1, -1, -1, -1, -1, -1, -1, -1, -1, -1, -1],\n",
       " [-1, -1, -1, -1, -1, -1, -1, -1, 0, -1, -1, -1, -1, 0],\n",
       " [-1, -1, -1, -1, -1, -1, -1, -1, -1, -1, -1, -1, -1, -1],\n",
       " [0, 0, 0, 1, 0, 0, 1, 1, -1, 0, 0, 0, 1, 0],\n",
       " [1, 1, 0, 1, 1, 0, 0, 0, 1, 1, 1, 1, 0, 0],\n",
       " [1, 0, 0, 0, 0, 1, 1, 0, 1, 1, 0, 0, 0, 1],\n",
       " [1, 0, 1, 1, 1, 1, 1, 1, 1, 1, 1, 1, 1, 1],\n",
       " [0, 1, 1, 1, 1, 1, 1, 0, 1, 0, 1, 1, 1, 1],\n",
       " [1, 1, 1, 0, 1, 0, 1, 0, 1, 0, 0, 1, 1, 1],\n",
       " [0, 1, 1, 1, 1, 1, 1, 1, 1, 0, 1, 1, 1, 1],\n",
       " [1, 1, 1, 1, 1, 1, 1, 1, 1, 1, 1, 1, 1, 1],\n",
       " [1, 1, 1, 1, 1, 1, 1, 1, 1, 1, 1, 1, 1, 1],\n",
       " [1, 0, 0, 0, 0, 0, 0, 0, 0, 0, 0, 0, 0, 0],\n",
       " [-1, -1, 0, 1, -1, 1, 1, -1, -1, 1, -1, -1, -1, 1],\n",
       " [1, 1, 1, 1, 0, 1, 1, 0, 0, 1, 0, 0, 1, 1],\n",
       " [1, 1, 0, 0, 0, 0, 1, 1, 0, 1, 1, 0, 1, 1],\n",
       " [1, 1, 1, 1, 1, 1, 1, 1, 1, 1, 1, 1, 1, 1],\n",
       " [0, 1, 1, 1, 1, 1, 1, 1, 1, 1, 1, 0, 0, 1],\n",
       " [1, 0, 0, 1, 1, 0, 1, 0, 1, 0, 1, 0, 0, 1],\n",
       " [1, 0, 0, 0, 1, 1, 0, 1, 0, 0, 1, 1, 1, 1],\n",
       " [1, 1, 0, 1, -1, 1, 0, 1, 0, 1, 1, 1, 0, 0],\n",
       " [1, 1, 1, 1, 0, 1, 1, 0, 1, 1, 1, 1, 1, 1],\n",
       " [1, 1, 1, 1, -1, 1, 1, 1, 1, 1, 1, 1, 1, 1],\n",
       " [1, 1, 0, 1, 1, 0, 1, 1, 0, 0, 1, 1, 0, 1],\n",
       " [0, 0, 0, 1, 0, 0, 0, 0, 0, 0, 0, 0, 0, 0],\n",
       " [1, 1, 1, 1, 1, 1, 1, 0, 1, 1, 1, 1, 0, 1],\n",
       " [0, 1, 1, 1, 1, 1, 1, 1, 1, 0, 1, 0, 1, 0],\n",
       " [1, 1, 1, 1, 1, 1, 1, 1, 0, 1, 1, 1, 1, 1],\n",
       " [0, 0, 0, 1, 1, 0, 1, 0, -1, 0, 1, 0, 1, 0],\n",
       " [1, 1, 1, 1, 0, 1, 1, 1, 1, 1, 1, 1, 0, 1],\n",
       " [1, 0, 1, 0, 0, 0, 0, 1, 0, 0, 1, 0, 1, 0],\n",
       " [0, 0, 1, 0, 1, 0, -1, 1, 1, 1, 1, 0, 0, 1],\n",
       " [1, 1, 0, 0, 1, 0, 1, 1, 1, 1, 1, 1, 1, 0],\n",
       " [1, 1, 1, 1, 1, 1, 1, 1, 1, 1, 0, 0, 0, 1],\n",
       " [1, 1, 0, 0, 1, -1, 1, 0, 0, 1, 0, 0, 0, 1],\n",
       " [1, 1, 1, 1, 0, 0, 0, 0, 1, 1, 1, 1, 1, 1],\n",
       " [1, 1, 0, 0, 1, 1, 1, 1, 1, 1, 1, 1, 1, 1],\n",
       " [0, 0, 0, 1, 1, 0, 0, 1, 1, 1, 1, 0, 1, 1],\n",
       " [1, 0, 1, 1, 1, 0, 0, 0, 1, 0, 1, 1, 0, 0],\n",
       " [0, 0, 1, 1, 1, 1, 1, 1, 0, 1, 0, 1, 0, 1],\n",
       " [1, 0, 0, 1, 1, 1, 0, 1, 0, 1, 1, 0, 1, 0],\n",
       " [1, 1, 1, 1, 1, 1, 1, 1, 1, 1, 0, 1, 1, 1],\n",
       " [1, 1, 0, 1, 0, 1, 0, 1, 1, 1, 0, 0, 0, 0],\n",
       " [-1, -1, -1, -1, -1, -1, -1, -1, -1, -1, -1, -1, -1, -1],\n",
       " [1, 0, 1, 0, 1, 1, 0, 0, 1, 1, 0, 0, -1, 1],\n",
       " [1, 0, 1, 0, 1, 0, 1, 0, 0, 1, 0, 1, 0, 1],\n",
       " [0, 1, 1, 1, 0, 1, 1, 1, 1, 0, 0, 1, 0, 0],\n",
       " [1, 1, 1, 1, 1, 1, 0, 0, 1, 1, 1, 1, 1, 1],\n",
       " [1, 1, 1, 1, 0, 1, 1, 0, 1, 1, 1, 0, 1, 1],\n",
       " [1, 1, -1, 1, 1, 1, 1, 1, 1, 1, 1, 1, 0, 0],\n",
       " [0, 0, 1, 1, 1, 1, 0, 0, 0, 0, 1, 1, 0, 1],\n",
       " [0, 1, 1, 0, 0, 1, 1, 1, 1, 1, 1, 0, 1, 1],\n",
       " [1, 1, 1, 0, 1, -1, 1, 1, 1, 1, 1, 1, 1, -1],\n",
       " [0, 1, 0, 1, 1, 0, 1, 0, 1, 0, 0, 0, 0, 0],\n",
       " [1, 1, 0, 0, 1, 1, 1, 1, 1, 1, 1, 1, 1, 0],\n",
       " [1, 0, 1, 1, 1, 0, 0, 0, 0, 1, 0, 1, 0, 1],\n",
       " [1, 1, 0, 0, 1, 1, 1, 0, -1, 0, 0, 0, 0, 0],\n",
       " [1, 1, 1, 0, 1, 1, 0, 0, 1, 1, 1, 1, 0, 1],\n",
       " [-1, -1, -1, -1, -1, -1, -1, -1, -1, -1, -1, -1, -1, -1],\n",
       " [-1, -1, -1, -1, 1, -1, -1, -1, -1, -1, -1, -1, -1, -1],\n",
       " [0, 0, 0, 0, 0, 0, 0, 1, 0, 0, 0, 0, 0, 0],\n",
       " [0, 0, 0, 0, 0, 0, 1, 0, 0, 0, 1, 0, 0, -1],\n",
       " [1, 1, 1, 1, 1, 1, 1, 1, 1, 1, 1, 1, 0, 1],\n",
       " [1, 0, 1, 1, 1, 1, 1, 1, 1, 1, 1, 0, 1, 0],\n",
       " [0, 0, 0, 1, 1, 1, 0, 1, 1, 1, 1, 1, 1, 1],\n",
       " [1, 1, 1, 1, 0, 0, 1, 1, 1, 0, 1, 1, 0, 1],\n",
       " [0, 0, 1, 0, 1, 0, 1, 1, 1, 0, 1, 0, 1, 1],\n",
       " [0, 1, 0, 0, 1, 1, 1, 1, 1, 1, 0, 1, 0, 0],\n",
       " [1, 0, 1, 1, 1, 0, 1, 1, 0, 1, 1, 1, 1, 1],\n",
       " [1, 1, 0, 0, 1, 0, 1, 1, 0, 1, 1, 1, 1, 0],\n",
       " [0, 1, 0, 1, 0, 1, 1, 0, 0, 0, 0, 1, 0, 0],\n",
       " [0, 1, 0, 0, 1, 1, 1, 1, 0, 0, 0, 1, 1, 1],\n",
       " [1, 1, 1, 0, 1, 0, 0, 0, 1, 0, 1, 0, 1, 0],\n",
       " [1, -1, 0, -1, 0, 1, 0, 1, 0, 1, 1, 1, -1, 1],\n",
       " [1, 0, 1, 1, 1, 1, -1, 1, 1, 1, -1, 1, 1, 1],\n",
       " [0, 0, 0, 0, 1, 1, 1, 0, -1, 0, 1, 0, 0, 0],\n",
       " [1, 0, 0, 1, 1, 1, 0, 1, 1, 1, 1, 1, 0, 1],\n",
       " [0, 0, 0, 0, 1, 0, 0, 0, 0, 0, 0, 0, 1, 1],\n",
       " [0, 0, 1, 0, 0, 0, 1, 0, 0, 0, 0, 0, 0, 1],\n",
       " [0, 0, 1, 1, 1, 1, 0, 0, 1, 0, 1, 0, 1, 1],\n",
       " [0, 1, 1, 1, 1, 1, 1, -1, 1, 1, 0, 1, 1, 1],\n",
       " [1, 1, 1, 0, 0, 1, 1, 1, 0, 1, 0, 1, 1, 1],\n",
       " [1, 1, 1, 0, 0, 1, 0, 1, 0, 1, 1, 1, 0, 1],\n",
       " [0, 1, -1, -1, 1, 0, -1, -1, -1, -1, -1, -1, 1, 0],\n",
       " [0, 1, 1, 1, 1, 0, 1, 1, 0, 1, 1, 0, 1, 0],\n",
       " [1, 1, 1, 1, 1, 1, 1, 1, 0, 1, 1, 1, 0, 1],\n",
       " [1, 0, 0, 1, 0, 0, 1, 0, 0, 0, 1, 0, 0, 1],\n",
       " [1, 0, 1, 1, 1, 1, 1, 1, 1, 1, 1, 1, 1, 0],\n",
       " [0, 0, 1, 1, 0, 1, 1, 1, 1, 1, 0, 1, 1, 1],\n",
       " [1, 1, 0, 1, 1, 0, 0, 0, 1, 1, 0, 0, 1, 0],\n",
       " [1, 0, 1, 1, 0, 1, 1, 0, 1, 0, 1, 1, 0, 1],\n",
       " [0, 1, 0, 0, 1, 1, 0, 1, 1, 0, 1, 0, 1, 1],\n",
       " [1, 1, 0, 0, 0, 1, 0, 1, 0, 0, 0, 0, 1, 0],\n",
       " [1, 1, 1, 0, 0, 1, 1, 0, 1, 0, 1, 0, 1, 0],\n",
       " [0, 0, 0, 0, 0, 0, 1, 0, 0, 1, 0, 0, 0, 1],\n",
       " [0, 1, 1, 0, 1, 1, 1, 1, 1, 0, 1, 1, 0, 1],\n",
       " [1, 1, 1, 1, 1, 1, 1, 1, 1, 1, 0, 0, 1, 0],\n",
       " [0, 0, 1, 1, 1, 1, 1, 1, 1, 1, 1, 0, 1, 1],\n",
       " [0, 0, 1, 1, 0, 0, 0, 0, 1, 1, 0, 1, 0, 0],\n",
       " [1, 1, 0, 1, 0, 0, 0, 0, 1, 0, 0, 1, 1, 1],\n",
       " [1, 1, 1, 1, 0, 0, 1, 0, 1, 1, 0, 0, 1, 1],\n",
       " [1, 0, 1, 1, 1, 0, 0, 1, 1, 1, 1, 1, 1, 1],\n",
       " [0, 0, 0, 0, 0, 0, 0, 1, 0, 0, 0, 0, 0, 0],\n",
       " [1, 1, 1, 1, 1, 1, 1, 1, 1, 1, 1, 1, 1, 1],\n",
       " [1, 1, 1, 1, 1, 0, 1, 1, 1, 1, 0, 0, 1, 1],\n",
       " [0, 1, 1, 0, 0, 0, 0, 1, 0, 1, 1, 1, 0, 1],\n",
       " [1, 0, 1, 1, 1, 0, 1, 0, 1, 1, 1, 1, 1, 0],\n",
       " [1, 1, 1, 1, 1, 1, 0, 0, 1, 1, 1, 1, 1, 0],\n",
       " [1, 0, 0, 1, 0, 1, 0, 0, 0, 1, 0, 1, 1, 1],\n",
       " [1, 1, 1, 1, 1, 1, 0, 0, 1, 1, 0, 1, 1, 1],\n",
       " [0, 1, 1, 1, 0, 1, 1, 0, 0, 1, 0, 1, 1, 0],\n",
       " [1, 0, 0, 1, 1, 1, 0, 1, 1, 1, 1, 1, 1, 1],\n",
       " [1, 1, 1, 1, 1, 1, 1, 0, 1, 0, 1, 1, 1, 1],\n",
       " [1, 1, 0, 1, 1, 1, 1, 1, 0, 1, 1, 1, 0, 0],\n",
       " [1, 0, 1, 1, 1, 1, 1, 1, 1, 1, 1, 1, 1, 1],\n",
       " [0, 0, 0, 1, 0, 0, 1, 0, 1, 0, 0, 0, 0, 0],\n",
       " [1, 0, 1, 1, 1, 0, 0, 1, 1, 1, 1, 0, 1, 1],\n",
       " [0, 1, 1, 1, 1, 1, 1, 0, 1, 1, 1, 1, 1, 1],\n",
       " [1, 1, 1, 1, 0, 1, 1, 1, 1, 1, 0, 1, 1, 1],\n",
       " [1, 1, 1, 1, 1, 1, 1, 1, 1, 1, 1, 1, 1, 1],\n",
       " [0, 1, 0, 1, 1, 1, 0, 0, 1, 1, 1, 1, 1, 1],\n",
       " [1, 1, 1, 1, 1, 1, 0, 1, 1, 1, 1, 1, 1, 1],\n",
       " [0, 0, 0, 1, 1, 1, 1, 1, 1, 0, 0, 1, 0, 0],\n",
       " [1, 1, 1, 1, 1, 1, 1, 0, 1, 1, 1, 1, 1, 1],\n",
       " [1, 0, 1, 1, 1, 1, 1, 1, 0, 1, 0, 1, 1, 1]]"
      ]
     },
     "execution_count": 9,
     "metadata": {},
     "output_type": "execute_result"
    }
   ],
   "source": [
    "for r in responses:\n",
    "    for i in range(len(r)):\n",
    "        if(r[i] == '0' or r[i] == '1'):\n",
    "            r[i] = int(r[i])\n",
    "        else:\n",
    "            r[i] = -1\n",
    "\n",
    "responses"
   ]
  },
  {
   "cell_type": "code",
   "execution_count": 10,
   "metadata": {},
   "outputs": [
    {
     "name": "stdout",
     "output_type": "stream",
     "text": [
      "4\n",
      "10\n",
      "15\n",
      "18\n",
      "25\n",
      "34\n",
      "37\n",
      "43\n",
      "44\n",
      "45\n",
      "46\n",
      "47\n",
      "57\n",
      "64\n",
      "66\n",
      "72\n",
      "75\n",
      "78\n",
      "87\n",
      "88\n",
      "93\n",
      "96\n",
      "100\n",
      "102\n",
      "103\n",
      "105\n",
      "117\n",
      "118\n",
      "119\n",
      "124\n",
      "127\n"
     ]
    }
   ],
   "source": [
    "def contains_minus_one(array):\n",
    "    contains = []\n",
    "    for sub_array in array:\n",
    "        if -1 in sub_array:\n",
    "            contains.append(True)\n",
    "        else:\n",
    "            contains.append(False)\n",
    "    return contains\n",
    "\n",
    "mask = contains_minus_one(responses)\n",
    "for i in range(len(mask)):\n",
    "    if mask[i] == True:\n",
    "        print(i)"
   ]
  },
  {
   "cell_type": "code",
   "execution_count": 11,
   "metadata": {},
   "outputs": [
    {
     "data": {
      "text/html": [
       "<div>\n",
       "<style scoped>\n",
       "    .dataframe tbody tr th:only-of-type {\n",
       "        vertical-align: middle;\n",
       "    }\n",
       "\n",
       "    .dataframe tbody tr th {\n",
       "        vertical-align: top;\n",
       "    }\n",
       "\n",
       "    .dataframe thead th {\n",
       "        text-align: right;\n",
       "    }\n",
       "</style>\n",
       "<table border=\"1\" class=\"dataframe\">\n",
       "  <thead>\n",
       "    <tr style=\"text-align: right;\">\n",
       "      <th></th>\n",
       "      <th>text-id</th>\n",
       "      <th>text</th>\n",
       "      <th>label</th>\n",
       "      <th>version</th>\n",
       "      <th>mistral_labels</th>\n",
       "      <th>not_generated_properly</th>\n",
       "    </tr>\n",
       "  </thead>\n",
       "  <tbody>\n",
       "    <tr>\n",
       "      <th>0</th>\n",
       "      <td>medium-17</td>\n",
       "      <td>Due to the overreach on the initial layoffs, c...</td>\n",
       "      <td>1</td>\n",
       "      <td>3</td>\n",
       "      <td>[1, 1, 1, 1, 1, 1, 1, 1, 1, 1, 1, 1, 1, 1]</td>\n",
       "      <td>False</td>\n",
       "    </tr>\n",
       "    <tr>\n",
       "      <th>1</th>\n",
       "      <td>medium-17</td>\n",
       "      <td>I used to be in Pharmacy. Then I did a researc...</td>\n",
       "      <td>0</td>\n",
       "      <td>3</td>\n",
       "      <td>[1, 0, 1, 1, 1, 0, 1, 1, 1, 1, 0, 0, 1, 1]</td>\n",
       "      <td>False</td>\n",
       "    </tr>\n",
       "    <tr>\n",
       "      <th>2</th>\n",
       "      <td>medium-17</td>\n",
       "      <td>So if a medical center has any that are partia...</td>\n",
       "      <td>1</td>\n",
       "      <td>3</td>\n",
       "      <td>[1, 1, 1, 1, 1, 0, 1, 1, 1, 1, 1, 1, 1, 1]</td>\n",
       "      <td>False</td>\n",
       "    </tr>\n",
       "    <tr>\n",
       "      <th>3</th>\n",
       "      <td>medium-17</td>\n",
       "      <td>Open vials are supposed to be discarded after ...</td>\n",
       "      <td>1</td>\n",
       "      <td>3</td>\n",
       "      <td>[0, 1, 0, 0, 0, 0, 0, 1, 1, 1, 0, 1, 1, 1]</td>\n",
       "      <td>False</td>\n",
       "    </tr>\n",
       "    <tr>\n",
       "      <th>4</th>\n",
       "      <td>medium-17</td>\n",
       "      <td>It costs about 15-35 cents to make a mL of ins...</td>\n",
       "      <td>1</td>\n",
       "      <td>3</td>\n",
       "      <td>[-1, 1, 0, 1, 0, 0, 1, 1, -1, 1, 0, 1, 1, 0]</td>\n",
       "      <td>True</td>\n",
       "    </tr>\n",
       "    <tr>\n",
       "      <th>...</th>\n",
       "      <td>...</td>\n",
       "      <td>...</td>\n",
       "      <td>...</td>\n",
       "      <td>...</td>\n",
       "      <td>...</td>\n",
       "      <td>...</td>\n",
       "    </tr>\n",
       "    <tr>\n",
       "      <th>164</th>\n",
       "      <td>hard-252</td>\n",
       "      <td>We don’t make more money today as land develop...</td>\n",
       "      <td>0</td>\n",
       "      <td>-1</td>\n",
       "      <td>[0, 1, 0, 1, 1, 1, 0, 0, 1, 1, 1, 1, 1, 1]</td>\n",
       "      <td>False</td>\n",
       "    </tr>\n",
       "    <tr>\n",
       "      <th>165</th>\n",
       "      <td>hard-252</td>\n",
       "      <td>Blame red tape, environmental “protection”, an...</td>\n",
       "      <td>1</td>\n",
       "      <td>-1</td>\n",
       "      <td>[1, 1, 1, 1, 1, 1, 0, 1, 1, 1, 1, 1, 1, 1]</td>\n",
       "      <td>False</td>\n",
       "    </tr>\n",
       "    <tr>\n",
       "      <th>166</th>\n",
       "      <td>hard-252</td>\n",
       "      <td>If you want the government to intervene to mak...</td>\n",
       "      <td>1</td>\n",
       "      <td>-1</td>\n",
       "      <td>[0, 0, 0, 1, 1, 1, 1, 1, 1, 0, 0, 1, 0, 0]</td>\n",
       "      <td>False</td>\n",
       "    </tr>\n",
       "    <tr>\n",
       "      <th>167</th>\n",
       "      <td>hard-252</td>\n",
       "      <td>Most politicians in my province (and probably ...</td>\n",
       "      <td>0</td>\n",
       "      <td>-1</td>\n",
       "      <td>[1, 1, 1, 1, 1, 1, 1, 0, 1, 1, 1, 1, 1, 1]</td>\n",
       "      <td>False</td>\n",
       "    </tr>\n",
       "    <tr>\n",
       "      <th>168</th>\n",
       "      <td>hard-252</td>\n",
       "      <td>The incentive is to court middle-class home ow...</td>\n",
       "      <td>0</td>\n",
       "      <td>-1</td>\n",
       "      <td>[1, 0, 1, 1, 1, 1, 1, 1, 0, 1, 0, 1, 1, 1]</td>\n",
       "      <td>False</td>\n",
       "    </tr>\n",
       "  </tbody>\n",
       "</table>\n",
       "<p>169 rows × 6 columns</p>\n",
       "</div>"
      ],
      "text/plain": [
       "       text-id                                               text  label  \\\n",
       "0    medium-17  Due to the overreach on the initial layoffs, c...      1   \n",
       "1    medium-17  I used to be in Pharmacy. Then I did a researc...      0   \n",
       "2    medium-17  So if a medical center has any that are partia...      1   \n",
       "3    medium-17  Open vials are supposed to be discarded after ...      1   \n",
       "4    medium-17  It costs about 15-35 cents to make a mL of ins...      1   \n",
       "..         ...                                                ...    ...   \n",
       "164   hard-252  We don’t make more money today as land develop...      0   \n",
       "165   hard-252  Blame red tape, environmental “protection”, an...      1   \n",
       "166   hard-252  If you want the government to intervene to mak...      1   \n",
       "167   hard-252  Most politicians in my province (and probably ...      0   \n",
       "168   hard-252  The incentive is to court middle-class home ow...      0   \n",
       "\n",
       "     version                                mistral_labels  \\\n",
       "0          3    [1, 1, 1, 1, 1, 1, 1, 1, 1, 1, 1, 1, 1, 1]   \n",
       "1          3    [1, 0, 1, 1, 1, 0, 1, 1, 1, 1, 0, 0, 1, 1]   \n",
       "2          3    [1, 1, 1, 1, 1, 0, 1, 1, 1, 1, 1, 1, 1, 1]   \n",
       "3          3    [0, 1, 0, 0, 0, 0, 0, 1, 1, 1, 0, 1, 1, 1]   \n",
       "4          3  [-1, 1, 0, 1, 0, 0, 1, 1, -1, 1, 0, 1, 1, 0]   \n",
       "..       ...                                           ...   \n",
       "164       -1    [0, 1, 0, 1, 1, 1, 0, 0, 1, 1, 1, 1, 1, 1]   \n",
       "165       -1    [1, 1, 1, 1, 1, 1, 0, 1, 1, 1, 1, 1, 1, 1]   \n",
       "166       -1    [0, 0, 0, 1, 1, 1, 1, 1, 1, 0, 0, 1, 0, 0]   \n",
       "167       -1    [1, 1, 1, 1, 1, 1, 1, 0, 1, 1, 1, 1, 1, 1]   \n",
       "168       -1    [1, 0, 1, 1, 1, 1, 1, 1, 0, 1, 0, 1, 1, 1]   \n",
       "\n",
       "     not_generated_properly  \n",
       "0                     False  \n",
       "1                     False  \n",
       "2                     False  \n",
       "3                     False  \n",
       "4                      True  \n",
       "..                      ...  \n",
       "164                   False  \n",
       "165                   False  \n",
       "166                   False  \n",
       "167                   False  \n",
       "168                   False  \n",
       "\n",
       "[169 rows x 6 columns]"
      ]
     },
     "execution_count": 11,
     "metadata": {},
     "output_type": "execute_result"
    }
   ],
   "source": [
    "paragraphs_df['mistral_labels'] = responses\n",
    "paragraphs_df['not_generated_properly'] = mask\n",
    "paragraphs_df"
   ]
  },
  {
   "cell_type": "code",
   "execution_count": 12,
   "metadata": {},
   "outputs": [],
   "source": [
    "paragraphs_df.to_csv('mistral_prediction.csv', index=False)"
   ]
  },
  {
   "cell_type": "code",
   "execution_count": null,
   "metadata": {},
   "outputs": [],
   "source": [
    "# responses generated by mistral\n",
    "# [['1', '1', '1', '1', '1', '1', '1', '1', '1', '1', '1', '1', '1', '1'],\n",
    "#  ['1', '0', '1', '1', '1', '0', '1', '1', '1', '1', '0', '0', '1', '1'],\n",
    "#  ['1', '1', '1', '1', '1', '0', '1', '1', '1', '1', '1', '1', '1', '1'],\n",
    "#  ['0', '1', '0', '0', '0', '0', '0', '1', '1', '1', '0', '1', '1', '1'],\n",
    "#  ['You', '1', '0', '1', '0', '0', '1', '1', 'It', '1', '0', '1', '1', '0'],\n",
    "#  ['1', '0', '0', '0', '0', '0', '1', '0', '0', '0', '0', '0', '0', '0'],\n",
    "#  ['0', '1', '0', '1', '0', '0', '1', '0', '0', '0', '1', '0', '1', '1'],\n",
    "#  ['1', '1', '1', '1', '1', '1', '1', '0', '1', '1', '1', '0', '0', '1'],\n",
    "#  ['0', '0', '0', '0', '1', '1', '1', '0', '0', '0', '0', '1', '0', '0'],\n",
    "#  ['1', '1', '0', '0', '0', '0', '0', '0', '0', '0', '0', '0', '0', '0'],\n",
    "#  ['0', '1', '0', '1', '0', '0', '0', '0', '0', '1', '1', '1', '0', 'You'],\n",
    "#  ['1', '1', '0', '0', '0', '1', '0', '0', '0', '0', '0', '0', '0', '0'],\n",
    "#  ['0', '0', '0', '0', '0', '0', '0', '0', '0', '0', '0', '0', '1', '0'],\n",
    "#  ['0', '1', '0', '1', '0', '0', '1', '1', '1', '1', '1', '1', '1', '1'],\n",
    "#  ['1', '0', '0', '0', '1', '1', '1', '1', '1', '1', '1', '0', '1', '1'],\n",
    "#  ['1', '1', '0', '0', '1', '0', '0', '0', 'I', '0', '0', '1', '0', '0'],\n",
    "#  ['1', '1', '1', '1', '0', '0', '1', '0', '1', '0', '0', '1', '0', '0'],\n",
    "#  ['1', '1', '1', '1', '1', '1', '0', '1', '1', '0', '1', '1', '1', '1'],\n",
    "#  ['1', '1', '0', '0', '0', '1', '1', '1', '1', '1', '1', 'You', '1', '0'],\n",
    "#  ['1', '1', '0', '1', '1', '1', '1', '0', '0', '1', '1', '1', '1', '1'],\n",
    "#  ['1', '1', '1', '1', '1', '1', '0', '1', '1', '1', '1', '1', '1', '0'],\n",
    "#  ['0', '1', '1', '1', '0', '1', '0', '1', '1', '0', '0', '1', '0', '0'],\n",
    "#  ['0', '0', '0', '0', '0', '1', '1', '1', '1', '0', '0', '0', '1', '0'],\n",
    "#  ['0', '0', '1', '0', '1', '1', '0', '1', '1', '1', '0', '0', '1', '1'],\n",
    "#  ['0', '0', '1', '0', '0', '1', '1', '1', '1', '1', '1', '1', '1', '0'],\n",
    "#  ['0',\n",
    "#   'If',\n",
    "#   '0',\n",
    "#   '0',\n",
    "#   'Par',\n",
    "#   'I',\n",
    "#   'I',\n",
    "#   'I',\n",
    "#   'Here',\n",
    "#   'I',\n",
    "#   'If',\n",
    "#   '0',\n",
    "#   'I',\n",
    "#   'She'],\n",
    "#  ['1', '1', '1', '0', '1', '0', '1', '1', '1', '1', '1', '1', '1', '1'],\n",
    "#  ['1', '1', '1', '1', '0', '1', '1', '1', '1', '0', '1', '0', '1', '1'],\n",
    "#  ['1', '1', '1', '1', '1', '0', '1', '1', '1', '1', '1', '1', '1', '1'],\n",
    "#  ['1', '1', '1', '1', '1', '0', '1', '1', '1', '1', '1', '1', '1', '1'],\n",
    "#  ['1', '1', '1', '1', '1', '1', '1', '1', '1', '1', '1', '1', '0', '1'],\n",
    "#  ['0', '0', '0', '0', '0', '0', '0', '0', '0', '0', '0', '0', '0', '0'],\n",
    "#  ['1', '1', '1', '1', '0', '1', '1', '0', '0', '0', '1', '1', '0', '0'],\n",
    "#  ['0', '1', '1', '0', '1', '1', '1', '1', '1', '1', '0', '0', '1', '1'],\n",
    "#  ['It', '1', '1', '0', '1', '1', '0', '1', '1', 'I', '1', '0', '1', '1'],\n",
    "#  ['0', '0', '1', '0', '0', '1', '1', '1', '0', '1', '0', '1', '0', '0'],\n",
    "#  ['1', '0', '1', '1', '1', '1', '0', '0', '1', '0', '0', '1', '1', '0'],\n",
    "#  ['0', '0', '0', '1', '0', '1', '0', '0', '1', '0', 'You', '1', '0', '0'],\n",
    "#  ['0', '0', '1', '1', '0', '0', '1', '1', '0', '1', '1', '0', '0', '0'],\n",
    "#  ['1', '1', '1', '1', '1', '1', '1', '0', '1', '1', '1', '1', '1', '1'],\n",
    "#  ['0', '0', '0', '0', '1', '0', '1', '1', '0', '1', '1', '1', '1', '1'],\n",
    "#  ['1', '0', '1', '1', '0', '1', '1', '1', '0', '1', '1', '1', '0', '0'],\n",
    "#  ['1', '0', '1', '0', '1', '0', '0', '1', '1', '1', '1', '1', '1', '1'],\n",
    "#  ['I', '0', '0', '0', '1', 'I', '0', 'I', '\\n', '1', 'I', 'I', 'You', '1'],\n",
    "#  ['It', 'I', 'I', '\\n', 'I', 'I', 'I', 'I', '\\n', 'It', 'I', 'I', '\\n', 'I'],\n",
    "#  ['The',\n",
    "#   '\\n',\n",
    "#   'The',\n",
    "#   'I',\n",
    "#   'I',\n",
    "#   'The',\n",
    "#   'The',\n",
    "#   'In',\n",
    "#   '0',\n",
    "#   'The',\n",
    "#   'I',\n",
    "#   '\\n',\n",
    "#   'I',\n",
    "#   '0'],\n",
    "#  ['The',\n",
    "#   'The',\n",
    "#   'I',\n",
    "#   'The',\n",
    "#   'The',\n",
    "#   'The',\n",
    "#   'The',\n",
    "#   'The',\n",
    "#   'The',\n",
    "#   'I',\n",
    "#   'I',\n",
    "#   'The',\n",
    "#   'The',\n",
    "#   'The'],\n",
    "#  ['0', '0', '0', '1', '0', '0', '1', '1', '\\n', '0', '0', '0', '1', '0'],\n",
    "#  ['1', '1', '0', '1', '1', '0', '0', '0', '1', '1', '1', '1', '0', '0'],\n",
    "#  ['1', '0', '0', '0', '0', '1', '1', '0', '1', '1', '0', '0', '0', '1'],\n",
    "#  ['1', '0', '1', '1', '1', '1', '1', '1', '1', '1', '1', '1', '1', '1'],\n",
    "#  ['0', '1', '1', '1', '1', '1', '1', '0', '1', '0', '1', '1', '1', '1'],\n",
    "#  ['1', '1', '1', '0', '1', '0', '1', '0', '1', '0', '0', '1', '1', '1'],\n",
    "#  ['0', '1', '1', '1', '1', '1', '1', '1', '1', '0', '1', '1', '1', '1'],\n",
    "#  ['1', '1', '1', '1', '1', '1', '1', '1', '1', '1', '1', '1', '1', '1'],\n",
    "#  ['1', '1', '1', '1', '1', '1', '1', '1', '1', '1', '1', '1', '1', '1'],\n",
    "#  ['1', '0', '0', '0', '0', '0', '0', '0', '0', '0', '0', '0', '0', '0'],\n",
    "#  ['You', 'Par', '0', '1', 'I', '1', '1', 'The', 'I', '1', 'I', 'I', 'I', '1'],\n",
    "#  ['1', '1', '1', '1', '0', '1', '1', '0', '0', '1', '0', '0', '1', '1'],\n",
    "#  ['1', '1', '0', '0', '0', '0', '1', '1', '0', '1', '1', '0', '1', '1'],\n",
    "#  ['1', '1', '1', '1', '1', '1', '1', '1', '1', '1', '1', '1', '1', '1'],\n",
    "#  ['0', '1', '1', '1', '1', '1', '1', '1', '1', '1', '1', '0', '0', '1'],\n",
    "#  ['1', '0', '0', '1', '1', '0', '1', '0', '1', '0', '1', '0', '0', '1'],\n",
    "#  ['1', '0', '0', '0', '1', '1', '0', '1', '0', '0', '1', '1', '1', '1'],\n",
    "#  ['1', '1', '0', '1', 'You', '1', '0', '1', '0', '1', '1', '1', '0', '0'],\n",
    "#  ['1', '1', '1', '1', '0', '1', '1', '0', '1', '1', '1', '1', '1', '1'],\n",
    "#  ['1', '1', '1', '1', 'You', '1', '1', '1', '1', '1', '1', '1', '1', '1'],\n",
    "#  ['1', '1', '0', '1', '1', '0', '1', '1', '0', '0', '1', '1', '0', '1'],\n",
    "#  ['0', '0', '0', '1', '0', '0', '0', '0', '0', '0', '0', '0', '0', '0'],\n",
    "#  ['1', '1', '1', '1', '1', '1', '1', '0', '1', '1', '1', '1', '0', '1'],\n",
    "#  ['0', '1', '1', '1', '1', '1', '1', '1', '1', '0', '1', '0', '1', '0'],\n",
    "#  ['1', '1', '1', '1', '1', '1', '1', '1', '0', '1', '1', '1', '1', '1'],\n",
    "#  ['0', '0', '0', '1', '1', '0', '1', '0', 'I', '0', '1', '0', '1', '0'],\n",
    "#  ['1', '1', '1', '1', '0', '1', '1', '1', '1', '1', '1', '1', '0', '1'],\n",
    "#  ['1', '0', '1', '0', '0', '0', '0', '1', '0', '0', '1', '0', '1', '0'],\n",
    "#  ['0', '0', '1', '0', '1', '0', 'Here', '1', '1', '1', '1', '0', '0', '1'],\n",
    "#  ['1', '1', '0', '0', '1', '0', '1', '1', '1', '1', '1', '1', '1', '0'],\n",
    "#  ['1', '1', '1', '1', '1', '1', '1', '1', '1', '1', '0', '0', '0', '1'],\n",
    "#  ['1', '1', '0', '0', '1', 'I', '1', '0', '0', '1', '0', '0', '0', '1'],\n",
    "#  ['1', '1', '1', '1', '0', '0', '0', '0', '1', '1', '1', '1', '1', '1'],\n",
    "#  ['1', '1', '0', '0', '1', '1', '1', '1', '1', '1', '1', '1', '1', '1'],\n",
    "#  ['0', '0', '0', '1', '1', '0', '0', '1', '1', '1', '1', '0', '1', '1'],\n",
    "#  ['1', '0', '1', '1', '1', '0', '0', '0', '1', '0', '1', '1', '0', '0'],\n",
    "#  ['0', '0', '1', '1', '1', '1', '1', '1', '0', '1', '0', '1', '0', '1'],\n",
    "#  ['1', '0', '0', '1', '1', '1', '0', '1', '0', '1', '1', '0', '1', '0'],\n",
    "#  ['1', '1', '1', '1', '1', '1', '1', '1', '1', '1', '0', '1', '1', '1'],\n",
    "#  ['1', '1', '0', '1', '0', '1', '0', '1', '1', '1', '0', '0', '0', '0'],\n",
    "#  ['Par',\n",
    "#   'Par',\n",
    "#   'I',\n",
    "#   'You',\n",
    "#   'You',\n",
    "#   '\\n',\n",
    "#   '\\n',\n",
    "#   '\\n',\n",
    "#   'You',\n",
    "#   'You',\n",
    "#   '\\n',\n",
    "#   'You',\n",
    "#   'The',\n",
    "#   'You'],\n",
    "#  ['1', '0', '1', '0', '1', '1', '0', '0', '1', '1', '0', '0', 'You', '1'],\n",
    "#  ['1', '0', '1', '0', '1', '0', '1', '0', '0', '1', '0', '1', '0', '1'],\n",
    "#  ['0', '1', '1', '1', '0', '1', '1', '1', '1', '0', '0', '1', '0', '0'],\n",
    "#  ['1', '1', '1', '1', '1', '1', '0', '0', '1', '1', '1', '1', '1', '1'],\n",
    "#  ['1', '1', '1', '1', '0', '1', '1', '0', '1', '1', '1', '0', '1', '1'],\n",
    "#  ['1', '1', 'The', '1', '1', '1', '1', '1', '1', '1', '1', '1', '0', '0'],\n",
    "#  ['0', '0', '1', '1', '1', '1', '0', '0', '0', '0', '1', '1', '0', '1'],\n",
    "#  ['0', '1', '1', '0', '0', '1', '1', '1', '1', '1', '1', '0', '1', '1'],\n",
    "#  ['1', '1', '1', '0', '1', 'P', '1', '1', '1', '1', '1', '1', '1', 'P'],\n",
    "#  ['0', '1', '0', '1', '1', '0', '1', '0', '1', '0', '0', '0', '0', '0'],\n",
    "#  ['1', '1', '0', '0', '1', '1', '1', '1', '1', '1', '1', '1', '1', '0'],\n",
    "#  ['1', '0', '1', '1', '1', '0', '0', '0', '0', '1', '0', '1', '0', '1'],\n",
    "#  ['1', '1', '0', '0', '1', '1', '1', '0', 'Based', '0', '0', '0', '0', '0'],\n",
    "#  ['1', '1', '1', '0', '1', '1', '0', '0', '1', '1', '1', '1', '0', '1'],\n",
    "#  ['I',\n",
    "#   'Par',\n",
    "#   'I',\n",
    "#   'I',\n",
    "#   'I',\n",
    "#   'Please',\n",
    "#   'Par',\n",
    "#   'I',\n",
    "#   'Par',\n",
    "#   'Par',\n",
    "#   'Par',\n",
    "#   'Par',\n",
    "#   'You',\n",
    "#   'I'],\n",
    "#  ['I',\n",
    "#   'It',\n",
    "#   'Par',\n",
    "#   'I',\n",
    "#   '1',\n",
    "#   'I',\n",
    "#   'Par',\n",
    "#   'Par',\n",
    "#   'I',\n",
    "#   'I',\n",
    "#   'I',\n",
    "#   'I',\n",
    "#   'I',\n",
    "#   'Par'],\n",
    "#  ['0', '0', '0', '0', '0', '0', '0', '1', '0', '0', '0', '0', '0', '0'],\n",
    "#  ['0', '0', '0', '0', '0', '0', '1', '0', '0', '0', '1', '0', '0', 'It'],\n",
    "#  ['1', '1', '1', '1', '1', '1', '1', '1', '1', '1', '1', '1', '0', '1'],\n",
    "#  ['1', '0', '1', '1', '1', '1', '1', '1', '1', '1', '1', '0', '1', '0'],\n",
    "#  ['0', '0', '0', '1', '1', '1', '0', '1', '1', '1', '1', '1', '1', '1'],\n",
    "#  ['1', '1', '1', '1', '0', '0', '1', '1', '1', '0', '1', '1', '0', '1'],\n",
    "#  ['0', '0', '1', '0', '1', '0', '1', '1', '1', '0', '1', '0', '1', '1'],\n",
    "#  ['0', '1', '0', '0', '1', '1', '1', '1', '1', '1', '0', '1', '0', '0'],\n",
    "#  ['1', '0', '1', '1', '1', '0', '1', '1', '0', '1', '1', '1', '1', '1'],\n",
    "#  ['1', '1', '0', '0', '1', '0', '1', '1', '0', '1', '1', '1', '1', '0'],\n",
    "#  ['0', '1', '0', '1', '0', '1', '1', '0', '0', '0', '0', '1', '0', '0'],\n",
    "#  ['0', '1', '0', '0', '1', '1', '1', '1', '0', '0', '0', '1', '1', '1'],\n",
    "#  ['1', '1', '1', '0', '1', '0', '0', '0', '1', '0', '1', '0', '1', '0'],\n",
    "#  ['1', 'The', '0', 'Un', '0', '1', '0', '1', '0', '1', '1', '1', 'Un', '1'],\n",
    "#  ['1', '0', '1', '1', '1', '1', 'Te', '1', '1', '1', '\\n', '1', '1', '1'],\n",
    "#  ['0', '0', '0', '0', '1', '1', '1', '0', 'If', '0', '1', '0', '0', '0'],\n",
    "#  ['1', '0', '0', '1', '1', '1', '0', '1', '1', '1', '1', '1', '0', '1'],\n",
    "#  ['0', '0', '0', '0', '1', '0', '0', '0', '0', '0', '0', '0', '1', '1'],\n",
    "#  ['0', '0', '1', '0', '0', '0', '1', '0', '0', '0', '0', '0', '0', '1'],\n",
    "#  ['0', '0', '1', '1', '1', '1', '0', '0', '1', '0', '1', '0', '1', '1'],\n",
    "#  ['0', '1', '1', '1', '1', '1', '1', 'It', '1', '1', '0', '1', '1', '1'],\n",
    "#  ['1', '1', '1', '0', '0', '1', '1', '1', '0', '1', '0', '1', '1', '1'],\n",
    "#  ['1', '1', '1', '0', '0', '1', '0', '1', '0', '1', '1', '1', '0', '1'],\n",
    "#  ['0', '1', 'I', 'I', '1', '0', 'You', 'I', 'This', 'I', 'I', 'I', '1', '0'],\n",
    "#  ['0', '1', '1', '1', '1', '0', '1', '1', '0', '1', '1', '0', '1', '0'],\n",
    "#  ['1', '1', '1', '1', '1', '1', '1', '1', '0', '1', '1', '1', '0', '1'],\n",
    "#  ['1', '0', '0', '1', '0', '0', '1', '0', '0', '0', '1', '0', '0', '1'],\n",
    "#  ['1', '0', '1', '1', '1', '1', '1', '1', '1', '1', '1', '1', '1', '0'],\n",
    "#  ['0', '0', '1', '1', '0', '1', '1', '1', '1', '1', '0', '1', '1', '1'],\n",
    "#  ['1', '1', '0', '1', '1', '0', '0', '0', '1', '1', '0', '0', '1', '0'],\n",
    "#  ['1', '0', '1', '1', '0', '1', '1', '0', '1', '0', '1', '1', '0', '1'],\n",
    "#  ['0', '1', '0', '0', '1', '1', '0', '1', '1', '0', '1', '0', '1', '1'],\n",
    "#  ['1', '1', '0', '0', '0', '1', '0', '1', '0', '0', '0', '0', '1', '0'],\n",
    "#  ['1', '1', '1', '0', '0', '1', '1', '0', '1', '0', '1', '0', '1', '0'],\n",
    "#  ['0', '0', '0', '0', '0', '0', '1', '0', '0', '1', '0', '0', '0', '1'],\n",
    "#  ['0', '1', '1', '0', '1', '1', '1', '1', '1', '0', '1', '1', '0', '1'],\n",
    "#  ['1', '1', '1', '1', '1', '1', '1', '1', '1', '1', '0', '0', '1', '0'],\n",
    "#  ['0', '0', '1', '1', '1', '1', '1', '1', '1', '1', '1', '0', '1', '1'],\n",
    "#  ['0', '0', '1', '1', '0', '0', '0', '0', '1', '1', '0', '1', '0', '0'],\n",
    "#  ['1', '1', '0', '1', '0', '0', '0', '0', '1', '0', '0', '1', '1', '1'],\n",
    "#  ['1', '1', '1', '1', '0', '0', '1', '0', '1', '1', '0', '0', '1', '1'],\n",
    "#  ['1', '0', '1', '1', '1', '0', '0', '1', '1', '1', '1', '1', '1', '1'],\n",
    "#  ['0', '0', '0', '0', '0', '0', '0', '1', '0', '0', '0', '0', '0', '0'],\n",
    "#  ['1', '1', '1', '1', '1', '1', '1', '1', '1', '1', '1', '1', '1', '1'],\n",
    "#  ['1', '1', '1', '1', '1', '0', '1', '1', '1', '1', '0', '0', '1', '1'],\n",
    "#  ['0', '1', '1', '0', '0', '0', '0', '1', '0', '1', '1', '1', '0', '1'],\n",
    "#  ['1', '0', '1', '1', '1', '0', '1', '0', '1', '1', '1', '1', '1', '0'],\n",
    "#  ['1', '1', '1', '1', '1', '1', '0', '0', '1', '1', '1', '1', '1', '0'],\n",
    "#  ['1', '0', '0', '1', '0', '1', '0', '0', '0', '1', '0', '1', '1', '1'],\n",
    "#  ['1', '1', '1', '1', '1', '1', '0', '0', '1', '1', '0', '1', '1', '1'],\n",
    "#  ['0', '1', '1', '1', '0', '1', '1', '0', '0', '1', '0', '1', '1', '0'],\n",
    "#  ['1', '0', '0', '1', '1', '1', '0', '1', '1', '1', '1', '1', '1', '1'],\n",
    "#  ['1', '1', '1', '1', '1', '1', '1', '0', '1', '0', '1', '1', '1', '1'],\n",
    "#  ['1', '1', '0', '1', '1', '1', '1', '1', '0', '1', '1', '1', '0', '0'],\n",
    "#  ['1', '0', '1', '1', '1', '1', '1', '1', '1', '1', '1', '1', '1', '1'],\n",
    "#  ['0', '0', '0', '1', '0', '0', '1', '0', '1', '0', '0', '0', '0', '0'],\n",
    "#  ['1', '0', '1', '1', '1', '0', '0', '1', '1', '1', '1', '0', '1', '1'],\n",
    "#  ['0', '1', '1', '1', '1', '1', '1', '0', '1', '1', '1', '1', '1', '1'],\n",
    "#  ['1', '1', '1', '1', '0', '1', '1', '1', '1', '1', '0', '1', '1', '1'],\n",
    "#  ['1', '1', '1', '1', '1', '1', '1', '1', '1', '1', '1', '1', '1', '1'],\n",
    "#  ['0', '1', '0', '1', '1', '1', '0', '0', '1', '1', '1', '1', '1', '1'],\n",
    "#  ['1', '1', '1', '1', '1', '1', '0', '1', '1', '1', '1', '1', '1', '1'],\n",
    "#  ['0', '0', '0', '1', '1', '1', '1', '1', '1', '0', '0', '1', '0', '0'],\n",
    "#  ['1', '1', '1', '1', '1', '1', '1', '0', '1', '1', '1', '1', '1', '1'],\n",
    "#  ['1', '0', '1', '1', '1', '1', '1', '1', '0', '1', '0', '1', '1', '1']]"
   ]
  }
 ],
 "metadata": {
  "kernelspec": {
   "display_name": "Python 3",
   "language": "python",
   "name": "python3"
  },
  "language_info": {
   "codemirror_mode": {
    "name": "ipython",
    "version": 3
   },
   "file_extension": ".py",
   "mimetype": "text/x-python",
   "name": "python",
   "nbconvert_exporter": "python",
   "pygments_lexer": "ipython3",
   "version": "3.11.4"
  }
 },
 "nbformat": 4,
 "nbformat_minor": 2
}
